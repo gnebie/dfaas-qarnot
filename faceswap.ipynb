{
 "cells": [
  {
   "cell_type": "code",
   "execution_count": 19,
   "id": "86a46f09",
   "metadata": {},
   "outputs": [
    {
     "data": {
      "text/html": [
       "<script>\n",
       " $('div.input').show();\n",
       "</script>\n"
      ],
      "text/plain": [
       "<IPython.core.display.HTML object>"
      ]
     },
     "execution_count": 19,
     "metadata": {},
     "output_type": "execute_result"
    }
   ],
   "source": [
    "# first cell used to Show the code (useful for Debug)\n",
    "from IPython.display import HTML\n",
    "HTML('''<script>\n",
    " $('div.input').show();\n",
    "</script>\n",
    "''')"
   ]
  },
  {
   "cell_type": "code",
   "execution_count": 21,
   "id": "f54d109e",
   "metadata": {},
   "outputs": [
    {
     "data": {
      "text/html": [
       "<script>\n",
       " $('div.input').hide();\n",
       "</script>\n"
      ],
      "text/plain": [
       "<IPython.core.display.HTML object>"
      ]
     },
     "execution_count": 21,
     "metadata": {},
     "output_type": "execute_result"
    }
   ],
   "source": [
    "# first cell used to Show the code (useful for Debug)\n",
    "from IPython.display import HTML\n",
    "HTML('''<script>\n",
    " $('div.input').hide();\n",
    "</script>\n",
    "''')"
   ]
  },
  {
   "cell_type": "code",
   "execution_count": 2,
   "id": "3781e059-34a3-4864-9e62-41ff7df24b69",
   "metadata": {},
   "outputs": [],
   "source": [
    "# Import the needed librairies \n",
    "from IPython.display import display\n",
    "from faceswaptools import QarnotFaceswapWrapper as QarnotWrapper\n",
    "# Do not show pip install info\n",
    "!python3 -m pip install qarnot > /dev/null\n",
    "import qarnot \n",
    "import ipywidgets as widgets\n",
    "from ipywidgets import Layout, Button, Box, Label, BoundedIntText, IntSlider, Dropdown, SelectMultiple\n",
    "from tkinter import Tk, filedialog\n",
    "from IPython.display import clear_output, display"
   ]
  },
  {
   "cell_type": "code",
   "execution_count": 3,
   "id": "cecb907e",
   "metadata": {},
   "outputs": [],
   "source": [
    "# Import the qarnot faceswap wrapper\n",
    "\n",
    "faceswapWrapper = QarnotWrapper()"
   ]
  },
  {
   "cell_type": "code",
   "execution_count": 4,
   "id": "cc72f579",
   "metadata": {},
   "outputs": [],
   "source": [
    "# Create all the Layout and CSS info\n",
    "form_item_layout = Layout(\n",
    "    display='flex',\n",
    "    flex_flow='row',\n",
    "    justify_content='space-between'\n",
    ")\n",
    "percent50layout = Layout(width='70%', height='30px')\n",
    "\n",
    "\n",
    "button_layout =  Layout(\n",
    "    margin=\"auto\",\n",
    "    width='20%',\n",
    "    height='50px'\n",
    ")\n",
    "small_button_layout =  Layout(\n",
    "    margin=\"auto\",\n",
    "    width='15%',\n",
    "    height='50px'\n",
    ")\n",
    "check_values_layout = {'border': '1px solid black', \"margin\":\"auto\",\"padding\":\"15px\", \"text-size\":\"20px\", \"font-weight\":\"20px\"}\n",
    "check_values_layout_box = Layout(width=\"100%\")"
   ]
  },
  {
   "cell_type": "code",
   "execution_count": 5,
   "id": "39868324",
   "metadata": {},
   "outputs": [],
   "source": [
    "# create the function widjet helpers\n",
    "def create_item_from_box(box, form_item_layout):\n",
    "    items = {}\n",
    "    for key, label, widget in box:\n",
    "        items[key] = Box([Label(value=label),widget], layout=form_item_layout) \n",
    "        display(items[key]) \n",
    "    return items\n",
    "\n",
    "def create_values_from_out(box, name_widget, form_item_layout):\n",
    "    display(Box([Label(value=box[0][1]), widgets.interactive_output(lambda a: print(\"task-\" + a + box[0][2]), {\"a\":name_widget}), widgets.interactive_output(lambda a: print(\"bucket-\" + a + box[0][2]), {\"a\":name_widget})], layout=form_item_layout))\n",
    "    display(Box([Label(value=box[1][1]), widgets.interactive_output(lambda a: print(\"task-\" + a + box[1][2]), {\"a\":name_widget}), widgets.interactive_output(lambda a: print(\"bucket-\" + a + box[1][2]), {\"a\":name_widget})], layout=form_item_layout))\n",
    "    display(Box([Label(value=box[2][1]), widgets.interactive_output(lambda a: print(\"task-\" + a + box[2][2]), {\"a\":name_widget}), widgets.interactive_output(lambda a: print(\"bucket-\" + a + box[2][2]), {\"a\":name_widget})], layout=form_item_layout))\n",
    "    display(Box([Label(value=box[3][1]), widgets.interactive_output(lambda a: print(\"task-\" + a + box[3][2]), {\"a\":name_widget}), widgets.interactive_output(lambda a: print(\"bucket-\" + a + box[3][2]), {\"a\":name_widget})], layout=form_item_layout))\n",
    "    display(Box([Label(value=box[4][1]), widgets.interactive_output(lambda a: print(\"task-\" + a + box[4][2]), {\"a\":name_widget}), widgets.interactive_output(lambda a: print(\"bucket-\" + a + box[4][2]), {\"a\":name_widget})], layout=form_item_layout))\n",
    "       \n",
    "def create_values_from_items(items, values):\n",
    "    for key in items:\n",
    "        values[key] = items[key].children[1].value\n",
    "    return values"
   ]
  },
  {
   "cell_type": "markdown",
   "id": "00d8de2f",
   "metadata": {},
   "source": [
    "## Buttons : \n",
    "\n",
    "\n",
    "## Commun \n",
    "### Info:\n",
    "* Token \n",
    "* noms des buckets => forcer le noms des buckets avec un prefix qu'il pourra définir\n",
    "\n",
    "\n",
    "### Upload ressources\n",
    "Un truc a part pour chaque bucket.\n",
    "Avec une option pour savoir ce qu'il y a dans chaque bucket ? \n",
    "\n",
    "\n",
    "### create or retrieve task:\n",
    "2 options\n",
    "\n",
    "#### 1 Run a task :\n",
    "* extract \n",
    "* train\n",
    "* prepare\n",
    "* convert \n",
    "\n",
    "#### 2 Get task Info:\n",
    "Status\n",
    "Temps d'execution \n",
    "..."
   ]
  },
  {
   "cell_type": "code",
   "execution_count": 6,
   "id": "43997185",
   "metadata": {},
   "outputs": [
    {
     "data": {
      "application/vnd.jupyter.widget-view+json": {
       "model_id": "909555da983f4150b47d9c2939fd55f7",
       "version_major": 2,
       "version_minor": 0
      },
      "text/plain": [
       "Box(children=(Label(value='Qarnot Token'), Password(layout=Layout(height='30px', width='70%'), placeholder='En…"
      ]
     },
     "metadata": {},
     "output_type": "display_data"
    },
    {
     "data": {
      "application/vnd.jupyter.widget-view+json": {
       "model_id": "829119c76d7e4736bf954cacf1713daf",
       "version_major": 2,
       "version_minor": 0
      },
      "text/plain": [
       "Box(children=(Label(value='Project name'), Text(value='faceswap', layout=Layout(height='30px', width='70%'), p…"
      ]
     },
     "metadata": {},
     "output_type": "display_data"
    }
   ],
   "source": [
    "# Retrieve data 1 : retrieve the project name and token. \n",
    "name_widget = widgets.Text(placeholder='Type something', disabled=False, value=\"faceswap\", layout=percent50layout)\n",
    "prepare_box = [\n",
    "        (\"pwd\", \"Qarnot Token\", widgets.Password(placeholder='Enter your token', disabled=False, layout=percent50layout)),\n",
    "        (\"name\", \"Project name\", name_widget),\n",
    "]\n",
    "\n",
    "prepare_items = create_item_from_box(prepare_box, form_item_layout)\n",
    "\n",
    "#widgets.HBox([widgets.VBox([a, b, c]), out])\n",
    "val = create_values_from_items(prepare_items, {})\n"
   ]
  },
  {
   "cell_type": "code",
   "execution_count": 8,
   "id": "0139009d",
   "metadata": {},
   "outputs": [
    {
     "data": {
      "application/vnd.jupyter.widget-view+json": {
       "model_id": "24468f09f1794b5b8f1bcbde30e74bf2",
       "version_major": 2,
       "version_minor": 0
      },
      "text/plain": [
       "Box(children=(Label(value='GPU '), Select(index=1, layout=Layout(width='70%'), options=('No', 'A6000'), value=…"
      ]
     },
     "metadata": {},
     "output_type": "display_data"
    }
   ],
   "source": [
    "# ask for the profile information\n",
    "prepare_task_box = [\n",
    "    (\"material\", \"GPU \", widgets.Select(options=['No', 'A6000'], value='A6000', layout=Layout(width='70%'),disabled=False)),\n",
    "]\n",
    "\n",
    "task_items = create_item_from_box(prepare_task_box, form_item_layout)\n"
   ]
  },
  {
   "cell_type": "code",
   "execution_count": 20,
   "id": "84372629",
   "metadata": {},
   "outputs": [
    {
     "data": {
      "application/vnd.jupyter.widget-view+json": {
       "model_id": "091dd6f5290540f290360903bb511a4f",
       "version_major": 2,
       "version_minor": 0
      },
      "text/plain": [
       "Box(children=(Label(value='Start name :'), Output(), Output()), layout=Layout(display='flex', flex_flow='row',…"
      ]
     },
     "metadata": {},
     "output_type": "display_data"
    },
    {
     "data": {
      "application/vnd.jupyter.widget-view+json": {
       "model_id": "308bd9d4590e434b8df1ad3b04c71dec",
       "version_major": 2,
       "version_minor": 0
      },
      "text/plain": [
       "Box(children=(Label(value='Extract name :'), Output(), Output()), layout=Layout(display='flex', flex_flow='row…"
      ]
     },
     "metadata": {},
     "output_type": "display_data"
    },
    {
     "data": {
      "application/vnd.jupyter.widget-view+json": {
       "model_id": "9892bbb85f744d678c6c140ec9e3ccb1",
       "version_major": 2,
       "version_minor": 0
      },
      "text/plain": [
       "Box(children=(Label(value='Trained-model name:'), Output(), Output()), layout=Layout(display='flex', flex_flow…"
      ]
     },
     "metadata": {},
     "output_type": "display_data"
    },
    {
     "data": {
      "application/vnd.jupyter.widget-view+json": {
       "model_id": "9f739220cbff4a00a53a30c8d2cfae2a",
       "version_major": 2,
       "version_minor": 0
      },
      "text/plain": [
       "Box(children=(Label(value='Preparation name :'), Output(), Output()), layout=Layout(display='flex', flex_flow=…"
      ]
     },
     "metadata": {},
     "output_type": "display_data"
    },
    {
     "data": {
      "application/vnd.jupyter.widget-view+json": {
       "model_id": "61342be4d0ae4e6c9aa536d02880b53b",
       "version_major": 2,
       "version_minor": 0
      },
      "text/plain": [
       "Box(children=(Label(value='Conversion name :'), Output(), Output()), layout=Layout(display='flex', flex_flow='…"
      ]
     },
     "metadata": {},
     "output_type": "display_data"
    }
   ],
   "source": [
    "# Create the names based on the project name \n",
    "subname_out_box = [\n",
    "    (\"init-\",    \"Start name :\", \"-start\"),\n",
    "    (\"extract-\", \"Extract name :\", \"-extract\"),\n",
    "    (\"train-\",   \"Trained-model name:\",\"-train\"),\n",
    "    (\"prepare-\", \"Preparation name :\", \"-prepare\"),\n",
    "    (\"result-\",  \"Conversion name :\", \"-convert\"),\n",
    "]\n",
    "\n",
    "qarnot_items = create_values_from_out(subname_out_box, name_widget, form_item_layout)"
   ]
  },
  {
   "cell_type": "markdown",
   "id": "24c6bfe6",
   "metadata": {},
   "source": [
    "### Prepare the data"
   ]
  },
  {
   "cell_type": "code",
   "execution_count": 9,
   "id": "5af003ca",
   "metadata": {},
   "outputs": [
    {
     "data": {
      "application/vnd.jupyter.widget-view+json": {
       "model_id": "08235a4791cc4ff3bb1b3f321ccf67a8",
       "version_major": 2,
       "version_minor": 0
      },
      "text/plain": [
       "Box(children=(Label(value='Train images/video folder A '), Text(value='', layout=Layout(height='30px', width='…"
      ]
     },
     "metadata": {},
     "output_type": "display_data"
    },
    {
     "data": {
      "application/vnd.jupyter.widget-view+json": {
       "model_id": "c3eead6d6041403a8ee18c5b1e582747",
       "version_major": 2,
       "version_minor": 0
      },
      "text/plain": [
       "Box(children=(Label(value='Train images/videos folder B '), Text(value='', layout=Layout(height='30px', width=…"
      ]
     },
     "metadata": {},
     "output_type": "display_data"
    },
    {
     "data": {
      "application/vnd.jupyter.widget-view+json": {
       "model_id": "6d752e39b33f49e7b8f71d6715da07e9",
       "version_major": 2,
       "version_minor": 0
      },
      "text/plain": [
       "Box(children=(Label(value='Videos to be convert folder (Video of face A) '), Text(value='', layout=Layout(heig…"
      ]
     },
     "metadata": {},
     "output_type": "display_data"
    }
   ],
   "source": [
    "# Get the resources \n",
    "prepare_resource_box = [\n",
    "    (\"init-resources-foldera\", \"Train images/video folder A \", widgets.Text(placeholder='Type your path', disabled=False, layout=percent50layout)),\n",
    "    (\"init-resources-folderb\", \"Train images/videos folder B \", widgets.Text(placeholder='Type your path', disabled=False, layout=percent50layout)),\n",
    "    (\"init-resources-folderc\", \"Videos to be convert folder (Video of face A) \", widgets.Text(placeholder='Type your path', disabled=False, layout=percent50layout)),\n",
    "]\n",
    "\n",
    "resources_items = create_item_from_box(prepare_resource_box, form_item_layout)"
   ]
  },
  {
   "cell_type": "code",
   "execution_count": 10,
   "id": "bd73f9c5",
   "metadata": {},
   "outputs": [],
   "source": [
    "\n",
    "def create_subnames(dictionary, name):\n",
    "    for key, label, name_suffix in subname_out_box:\n",
    "        dictionary[key + \"bucket\"] = \"bucket-\" + name + name_suffix\n",
    "        dictionary[key + \"task\"] = \"task-\" + name + name_suffix\n",
    "\n",
    "def retrieve_all_values():\n",
    "    values = {}\n",
    "    create_values_from_items(prepare_items, values)\n",
    "    create_values_from_items(task_items, values)\n",
    "    create_values_from_items(resources_items, values)\n",
    "    create_subnames(values, values[\"name\"])\n",
    "    return values\n"
   ]
  },
  {
   "cell_type": "code",
   "execution_count": 11,
   "id": "6cd11812",
   "metadata": {
    "scrolled": false
   },
   "outputs": [
    {
     "data": {
      "application/vnd.jupyter.widget-view+json": {
       "model_id": "d4d3d8587b934c4487859f9319125f0e",
       "version_major": 2,
       "version_minor": 0
      },
      "text/plain": [
       "Box(children=(Button(button_style='info', description='Update Resources', icon='check', layout=Layout(height='…"
      ]
     },
     "metadata": {},
     "output_type": "display_data"
    }
   ],
   "source": [
    "# Button to run the tasks:\n",
    "\n",
    "def clic_update_resources(button):\n",
    "    values = retrieve_all_values()\n",
    "    print(values[\"pwd\"])\n",
    "    init_bucket = values[\"init-bucket\"]\n",
    "    print(faceswapWrapper.retrieve_bucket_files(init_bucket, values))\n",
    "    value_found = False\n",
    "    if values[\"init-resources-foldera\"]:\n",
    "        print('resources folder a:\"' + values[\"init-resources-foldera\"] + '\"')\n",
    "        value_found = True\n",
    "        faceswapWrapper.upload_bucket_folder(init_bucket, values[\"init-resources-foldera\"], values)\n",
    "    if values[\"init-resources-folderb\"]:\n",
    "        print('resources folder b:\"' + values[\"init-resources-folderb\"] + '\"')\n",
    "        value_found = True\n",
    "        faceswapWrapper.upload_bucket_folder(init_bucket, values[\"init-resources-folderb\"], values)\n",
    "    if values[\"init-resources-folderc\"]:\n",
    "        print('resources folder c:\"' + values[\"init-resources-folderc\"] + '\"')\n",
    "        value_found = True\n",
    "        faceswapWrapper.upload_bucket_folder(init_bucket, values[\"init-resources-folderc\"], values)\n",
    "    if not value_found:\n",
    "        print(\"No resources to be updated.\")\n",
    "\n",
    "def clic_clean_resources(button):\n",
    "    values = retrieve_all_values()\n",
    "    print(\"clean resources\")\n",
    "    init_bucket = values[\"init-bucket\"]\n",
    "    faceswapWrapper.retrieve_bucket_files(init_bucket, values)\n",
    "\n",
    "\n",
    "    \n",
    "def create_buckets_buttons():\n",
    "    buttons = []\n",
    "    for one_button_name, one_button_func in [(\"Update Resources\", clic_update_resources), (\"Clean all Resources\", clic_clean_resources)]:\n",
    "        one_button = widgets.Button(description=one_button_name, disabled=False, button_style='info', tooltip=one_button_name, icon='check', layout=button_layout)\n",
    "        one_button.on_click(one_button_func)\n",
    "        buttons.append(one_button)\n",
    "    box_button = Box(buttons, layout=form_item_layout)\n",
    "    display(box_button, layout=button_layout)\n",
    "    \n",
    "    \n",
    "create_buckets_buttons()\n"
   ]
  },
  {
   "cell_type": "markdown",
   "id": "3f3e1d96",
   "metadata": {},
   "source": [
    "#### See the data"
   ]
  },
  {
   "cell_type": "code",
   "execution_count": 15,
   "id": "dfebcbcf",
   "metadata": {},
   "outputs": [
    {
     "data": {
      "application/vnd.jupyter.widget-view+json": {
       "model_id": "04d13afa25f94373a92bd13354125577",
       "version_major": 2,
       "version_minor": 0
      },
      "text/plain": [
       "Box(children=(Button(button_style='info', description='Start', icon='check', layout=Layout(height='50px', marg…"
      ]
     },
     "metadata": {},
     "output_type": "display_data"
    },
    {
     "name": "stdout",
     "output_type": "stream",
     "text": [
      "<qarnot.bucket.Bucket object at 0x7fa3a0622be0>\n",
      "s3.Bucket.objectsCollection(s3.Bucket(name='bucket-faceswap-start'), s3.ObjectSummary)\n",
      "[\n",
      "    \"img/quentin.jpeg\",\n",
      "    \"img/louis.jpeg\",\n",
      "    \"img/paul.jpg\",\n",
      "    \"img/chloe.jpeg\",\n",
      "    \"img/ariane.png\",\n",
      "    \"img/thomas.jpeg\",\n",
      "    \"img/marco.jpeg\",\n",
      "    \"equipe/T072J3PD4-U0147SH05UP-49244cc6ad9a-512.jpeg\",\n",
      "    \"img/philippe.png\",\n",
      "    \"img/clement.jpeg\",\n",
      "    \"equipe/T072J3PD4-UPME5R4DP-b5458c5ea9b2-512.png\",\n",
      "    \"img/etienne.jpeg\",\n",
      "    \"img/cloe.jpeg\",\n",
      "    \"img/victoria.jpeg\",\n",
      "    \"img/eric.jpeg\",\n",
      "    \"equipe/T072J3PD4-UPME5R4DP-b5458c5ea9b2-512.jpeg\",\n",
      "    \"img/laurant.jpeg\",\n",
      "    \"img/antoine_de_la_bouillerie.jpeg\",\n",
      "    \"img/claire.jpeg\",\n",
      "    \"img/yoann.jpeg\",\n",
      "    \"img/olivier.jpeg\",\n",
      "    \"img/estelle.jpeg\",\n",
      "    \"img/nicolas.jpeg\",\n",
      "    \"img/mirko.jpeg\",\n",
      "    \"img/antoine.jpeg\",\n",
      "    \"img/gwenn.png\",\n",
      "    \"img/remi.jpeg\",\n",
      "    \"img/T072J3PD4-U077W87HQ-330a487158e0-512.jpeg\",\n",
      "    \"img/thiphaine.jpeg\",\n",
      "    \"img/robin.png\",\n",
      "    \"img/guillaume.jpeg\"\n",
      "]\n"
     ]
    }
   ],
   "source": [
    "\n",
    "\n",
    "# check buckets\n",
    "def watch_buckets_buttons():\n",
    "    buttons = []\n",
    "    resources_buckets = [(\"Start\", lambda x: faceswapWrapper.print_dump(faceswapWrapper.retrieve_bucket_files(retrieve_all_values()[\"init-bucket\"], retrieve_all_values()))),\n",
    "                         (\"Extracted\", lambda x: faceswapWrapper.print_dump(faceswapWrapper.retrieve_bucket_files(retrieve_all_values()[\"extract-bucket\"], retrieve_all_values()))),\n",
    "                         (\"Trained\", lambda x: faceswapWrapper.print_dump(faceswapWrapper.retrieve_bucket_files(retrieve_all_values()[\"train-bucket\"], retrieve_all_values()))),\n",
    "                         (\"Prepared\", lambda x: faceswapWrapper.print_dump(faceswapWrapper.retrieve_bucket_files(retrieve_all_values()[\"prepare-bucket\"], retrieve_all_values()))),\n",
    "                         (\"Converted\", lambda x: faceswapWrapper.print_dump(faceswapWrapper.retrieve_bucket_files(retrieve_all_values()[\"convert-bucket\"], retrieve_all_values())))]\n",
    "    for one_button_name, one_button_func in resources_buckets:\n",
    "        one_button = widgets.Button(description=one_button_name, disabled=False, button_style='info', tooltip=one_button_name, icon='check', layout=small_button_layout)\n",
    "        one_button.on_click(one_button_func)\n",
    "        buttons.append(one_button)\n",
    "    box_button = Box(buttons, layout=form_item_layout)\n",
    "    display(box_button, layout=small_button_layout)\n",
    "    \n",
    "    \n",
    "watch_buckets_buttons()"
   ]
  },
  {
   "cell_type": "markdown",
   "id": "27c79d72",
   "metadata": {},
   "source": [
    "### Run the tasks:"
   ]
  },
  {
   "cell_type": "code",
   "execution_count": 13,
   "id": "208f376d",
   "metadata": {},
   "outputs": [
    {
     "data": {
      "application/vnd.jupyter.widget-view+json": {
       "model_id": "dbb229a405fe4cef9703dc3ec73157d7",
       "version_major": 2,
       "version_minor": 0
      },
      "text/plain": [
       "Box(children=(Button(button_style='info', description='Extract', icon='check', layout=Layout(height='50px', ma…"
      ]
     },
     "metadata": {},
     "output_type": "display_data"
    }
   ],
   "source": [
    "\n",
    "def clic_extract(info):\n",
    "    values = retrieve_all_values()\n",
    "    faceswapWrapper.test_values(values)\n",
    "    faceswapWrapper.extract(values)\n",
    "    \n",
    "def clic_train(info):\n",
    "    values = retrieve_all_values()\n",
    "    faceswapWrapper.test_values(values)\n",
    "    faceswapWrapper.train(values)\n",
    "    \n",
    "def clic_prepare(info):\n",
    "    values = retrieve_all_values()\n",
    "    faceswapWrapper.test_values(values)\n",
    "    faceswapWrapper.prepare(values)\n",
    "    \n",
    "def clic_convert(info):\n",
    "    values = retrieve_all_values()\n",
    "    faceswapWrapper.test_values(values)\n",
    "    faceswapWrapper.convert(values)\n",
    "\n",
    "\n",
    "    \n",
    "def create_buttons():\n",
    "    buttons = []\n",
    "    for one_button_name, one_button_func in [(\"Extract\", clic_extract), \n",
    "                            (\"Train\",clic_train), \n",
    "                            (\"Prepare\",clic_prepare), \n",
    "                            (\"Convert\", clic_convert)]:\n",
    "        one_button = widgets.Button(description=one_button_name, disabled=False, button_style='info', tooltip=one_button_name, icon='check', layout=button_layout)\n",
    "        one_button.on_click(one_button_func)\n",
    "        buttons.append(one_button)\n",
    "    box_button = Box(buttons, layout=form_item_layout)\n",
    "    display(box_button, layout=button_layout)\n",
    "\n",
    "    \n",
    "create_buttons()"
   ]
  },
  {
   "cell_type": "markdown",
   "id": "b46b7aa1",
   "metadata": {},
   "source": [
    "### Check the created tasks: "
   ]
  },
  {
   "cell_type": "code",
   "execution_count": 14,
   "id": "37883194",
   "metadata": {},
   "outputs": [
    {
     "data": {
      "application/vnd.jupyter.widget-view+json": {
       "model_id": "43a16dcea802412f81f26b4443c17afc",
       "version_major": 2,
       "version_minor": 0
      },
      "text/plain": [
       "Box(children=(Button(button_style='info', description='Extract', icon='check', layout=Layout(height='50px', ma…"
      ]
     },
     "metadata": {},
     "output_type": "display_data"
    },
    {
     "name": "stdout",
     "output_type": "stream",
     "text": [
      "{\n",
      "    \"pwd\": \"64c542ee5b106eb8f64008ed12e7b893112e92a8edd6a0a764bf2cf2de077786\",\n",
      "    \"name\": \"faceswap\",\n",
      "    \"material\": \"A6000\",\n",
      "    \"init-resources-foldera\": \"\",\n",
      "    \"init-resources-folderb\": \"\",\n",
      "    \"init-resources-folderc\": \"\",\n",
      "    \"init-bucket\": \"bucket-faceswap-start\",\n",
      "    \"init-task\": \"task-faceswap-start\",\n",
      "    \"extract-bucket\": \"bucket-faceswap-extract\",\n",
      "    \"extract-task\": \"task-faceswap-extract\",\n",
      "    \"train-bucket\": \"bucket-faceswap-train\",\n",
      "    \"train-task\": \"task-faceswap-train\",\n",
      "    \"prepare-bucket\": \"bucket-faceswap-prepare\",\n",
      "    \"prepare-task\": \"task-faceswap-prepare\",\n",
      "    \"result-bucket\": \"bucket-faceswap-convert\",\n",
      "    \"result-task\": \"task-faceswap-convert\"\n",
      "}\n"
     ]
    },
    {
     "ename": "KeyError",
     "evalue": "'task-extract'",
     "output_type": "error",
     "traceback": [
      "\u001b[0;31m---------------------------------------------------------------------------\u001b[0m",
      "\u001b[0;31mKeyError\u001b[0m                                  Traceback (most recent call last)",
      "\u001b[0;32m/tmp/ipykernel_2950127/4009261249.py\u001b[0m in \u001b[0;36mclic_extract\u001b[0;34m(info)\u001b[0m\n\u001b[1;32m      2\u001b[0m     \u001b[0mvalues\u001b[0m \u001b[0;34m=\u001b[0m \u001b[0mretrieve_all_values\u001b[0m\u001b[0;34m(\u001b[0m\u001b[0;34m)\u001b[0m\u001b[0;34m\u001b[0m\u001b[0;34m\u001b[0m\u001b[0m\n\u001b[1;32m      3\u001b[0m     \u001b[0mfaceswapWrapper\u001b[0m\u001b[0;34m.\u001b[0m\u001b[0mtest_values\u001b[0m\u001b[0;34m(\u001b[0m\u001b[0mvalues\u001b[0m\u001b[0;34m)\u001b[0m\u001b[0;34m\u001b[0m\u001b[0;34m\u001b[0m\u001b[0m\n\u001b[0;32m----> 4\u001b[0;31m     \u001b[0mfaceswapWrapper\u001b[0m\u001b[0;34m.\u001b[0m\u001b[0mextract\u001b[0m\u001b[0;34m(\u001b[0m\u001b[0mvalues\u001b[0m\u001b[0;34m)\u001b[0m\u001b[0;34m\u001b[0m\u001b[0;34m\u001b[0m\u001b[0m\n\u001b[0m\u001b[1;32m      5\u001b[0m \u001b[0;34m\u001b[0m\u001b[0m\n\u001b[1;32m      6\u001b[0m \u001b[0;32mdef\u001b[0m \u001b[0mclic_train\u001b[0m\u001b[0;34m(\u001b[0m\u001b[0minfo\u001b[0m\u001b[0;34m)\u001b[0m\u001b[0;34m:\u001b[0m\u001b[0;34m\u001b[0m\u001b[0;34m\u001b[0m\u001b[0m\n",
      "\u001b[0;32m~/Demo/python_widgets/faceswaptools.py\u001b[0m in \u001b[0;36mextract\u001b[0;34m(self, values)\u001b[0m\n\u001b[1;32m     76\u001b[0m         \u001b[0minfo\u001b[0m\u001b[0;34m[\u001b[0m\u001b[0;34m\"task_name\"\u001b[0m\u001b[0;34m]\u001b[0m \u001b[0;34m=\u001b[0m \u001b[0mvalues\u001b[0m\u001b[0;34m[\u001b[0m\u001b[0;34m\"task-extract\"\u001b[0m\u001b[0;34m]\u001b[0m\u001b[0;34m\u001b[0m\u001b[0;34m\u001b[0m\u001b[0m\n\u001b[1;32m     77\u001b[0m         \u001b[0mresources_names\u001b[0m \u001b[0;34m=\u001b[0m \u001b[0;34m[\u001b[0m\u001b[0mvalues\u001b[0m\u001b[0;34m[\u001b[0m\u001b[0;34m\"bucket-init\"\u001b[0m\u001b[0;34m]\u001b[0m\u001b[0;34m]\u001b[0m\u001b[0;34m\u001b[0m\u001b[0;34m\u001b[0m\u001b[0m\n\u001b[0;32m---> 78\u001b[0;31m         \u001b[0minfo\u001b[0m\u001b[0;34m.\u001b[0m\u001b[0mresources\u001b[0m \u001b[0;34m=\u001b[0m \u001b[0;34m[\u001b[0m \u001b[0mself\u001b[0m\u001b[0;34m.\u001b[0m\u001b[0mconnect\u001b[0m\u001b[0;34m.\u001b[0m\u001b[0mretrieve_or_create_bucket\u001b[0m\u001b[0;34m(\u001b[0m\u001b[0mbucket_name\u001b[0m\u001b[0;34m)\u001b[0m \u001b[0;32mfor\u001b[0m \u001b[0mbucket_name\u001b[0m \u001b[0;32min\u001b[0m \u001b[0mresources_names\u001b[0m \u001b[0;34m]\u001b[0m\u001b[0;34m\u001b[0m\u001b[0;34m\u001b[0m\u001b[0m\n\u001b[0m\u001b[1;32m     79\u001b[0m         \u001b[0minfo\u001b[0m\u001b[0;34m.\u001b[0m\u001b[0mresult\u001b[0m \u001b[0;34m=\u001b[0m \u001b[0mself\u001b[0m\u001b[0;34m.\u001b[0m\u001b[0mconnect\u001b[0m\u001b[0;34m.\u001b[0m\u001b[0mretrieve_or_create_bucket\u001b[0m\u001b[0;34m(\u001b[0m\u001b[0mvalues\u001b[0m\u001b[0;34m[\u001b[0m\u001b[0;34m\"bucket-extract\"\u001b[0m\u001b[0;34m]\u001b[0m\u001b[0;34m)\u001b[0m\u001b[0;34m\u001b[0m\u001b[0;34m\u001b[0m\u001b[0m\n\u001b[1;32m     80\u001b[0m         \u001b[0;32mreturn\u001b[0m \u001b[0mself\u001b[0m\u001b[0;34m.\u001b[0m\u001b[0mlaunch_task\u001b[0m\u001b[0;34m(\u001b[0m\u001b[0minfo\u001b[0m\u001b[0;34m)\u001b[0m\u001b[0;34m\u001b[0m\u001b[0;34m\u001b[0m\u001b[0m\n",
      "\u001b[0;31mKeyError\u001b[0m: 'task-extract'"
     ]
    }
   ],
   "source": [
    "# Check tasks by names\n",
    "def create_buttons():\n",
    "    buttons = []\n",
    "    for one_button_name, one_button_func in [(\"Extract\", lambda x : faceswapWrapper.print_dump(faceswapWrapper.)), \n",
    "                            (\"Train\",clic_train), \n",
    "                            (\"Prepare\",clic_prepare), \n",
    "                            (\"Convert\", clic_convert)]:\n",
    "        one_button = widgets.Button(description=one_button_name, disabled=False, button_style='info', tooltip=one_button_name, icon='check', layout=button_layout)\n",
    "        one_button.on_click(one_button_func)\n",
    "        buttons.append(one_button)\n",
    "    box_button = Box(buttons, layout=form_item_layout)\n",
    "    display(box_button, layout=button_layout)\n",
    "\n",
    "    \n",
    "create_buttons()"
   ]
  },
  {
   "cell_type": "markdown",
   "id": "b30ce5a1",
   "metadata": {},
   "source": [
    "### Clean the created tasks:"
   ]
  },
  {
   "cell_type": "code",
   "execution_count": 14,
   "id": "475234ae",
   "metadata": {},
   "outputs": [
    {
     "data": {
      "application/vnd.jupyter.widget-view+json": {
       "model_id": "43a16dcea802412f81f26b4443c17afc",
       "version_major": 2,
       "version_minor": 0
      },
      "text/plain": [
       "Box(children=(Button(button_style='info', description='Extract', icon='check', layout=Layout(height='50px', ma…"
      ]
     },
     "metadata": {},
     "output_type": "display_data"
    }
   ],
   "source": [
    "# Check tasks by names\n",
    "def create_buttons():\n",
    "    buttons = []\n",
    "    for one_button_name, one_button_func in [(\"Extract\", clic_extract), \n",
    "                            (\"Train\",clic_train), \n",
    "                            (\"Prepare\",clic_prepare), \n",
    "                            (\"Convert\", clic_convert)]:\n",
    "        one_button = widgets.Button(description=one_button_name, disabled=False, button_style='info', tooltip=one_button_name, icon='check', layout=button_layout)\n",
    "        one_button.on_click(one_button_func)\n",
    "        buttons.append(one_button)\n",
    "    box_button = Box(buttons, layout=form_item_layout)\n",
    "    display(box_button, layout=button_layout)\n",
    "\n",
    "    \n",
    "create_buttons()"
   ]
  }
 ],
 "metadata": {
  "kernelspec": {
   "display_name": "Python 3 (ipykernel)",
   "language": "python",
   "name": "python3"
  },
  "language_info": {
   "codemirror_mode": {
    "name": "ipython",
    "version": 3
   },
   "file_extension": ".py",
   "mimetype": "text/x-python",
   "name": "python",
   "nbconvert_exporter": "python",
   "pygments_lexer": "ipython3",
   "version": "3.8.10"
  }
 },
 "nbformat": 4,
 "nbformat_minor": 5
}
