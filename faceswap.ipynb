{
 "cells": [
  {
   "cell_type": "markdown",
   "id": "00d8de2f",
   "metadata": {},
   "source": [
    "# Qarnot Faceswap Payload\n",
    "\n",
    "This is a qarnot payload to create a deepfake model from scratch.  \n",
    "This model is create with the framework `Faceswap` and perform a face swap of 2 people. \n",
    "\n",
    "For more information, go to [our blog](https://blog.qarnot.com/) \n",
    "\n",
    "\n",
    "## Qarnot \n",
    "\n",
    "To create your Qarnot account and get your token: [Qarnot account](https://account.qarnot.com)  \n",
    "\n",
    "To have a better interface and see the running more interactivly go to the qarnot console. [Qarnot console](https://console.qarnot.com/)  \n",
    "\n",
    "For more information, go to our [Site](https://computing.qarnot.com/en/) and check our [Documentation](https://computing.qarnot.com/en/developers/overview/qarnot-computing-home)  \n",
    "\n"
   ]
  },
  {
   "cell_type": "markdown",
   "id": "534a56ed",
   "metadata": {},
   "source": [
    "\n",
    "## Buttons : \n",
    "\n",
    "\n",
    "## Commun \n",
    "### Info:\n",
    "* Token \n",
    "* \"noms des buckets\" => forcer le noms des buckets avec un prefix qu'il pourra définir\n",
    "\n",
    "\n",
    "### Upload ressources\n",
    "Un truc a part pour chaque bucket.\n",
    "Avec une option pour savoir ce qu'il y a dans chaque bucket ? \n",
    "\n",
    "\n",
    "### create or retrieve task:\n",
    "2 options\n",
    "\n",
    "\n",
    "#### 2 Get task Info:\n",
    "Status\n",
    "Temps d'execution \n"
   ]
  },
  {
   "cell_type": "code",
   "execution_count": 1,
   "id": "86a46f09",
   "metadata": {
    "scrolled": true
   },
   "outputs": [
    {
     "data": {
      "text/html": [
       "<script>\n",
       " $('div.input').show();\n",
       "</script>\n"
      ],
      "text/plain": [
       "<IPython.core.display.HTML object>"
      ]
     },
     "execution_count": 1,
     "metadata": {},
     "output_type": "execute_result"
    }
   ],
   "source": [
    "# first cell used to Show the code (useful for Debug)\n",
    "from IPython.display import HTML\n",
    "HTML('''<script>\n",
    " $('div.input').show();\n",
    "</script>\n",
    "''')"
   ]
  },
  {
   "cell_type": "code",
   "execution_count": 2,
   "id": "f40b8f0a",
   "metadata": {},
   "outputs": [
    {
     "data": {
      "text/html": [
       "<script>\n",
       " $('div.input').hide();\n",
       "</script>\n"
      ],
      "text/plain": [
       "<IPython.core.display.HTML object>"
      ]
     },
     "execution_count": 2,
     "metadata": {},
     "output_type": "execute_result"
    }
   ],
   "source": [
    "# first cell used to Show the code (useful for Debug)\n",
    "from IPython.display import HTML\n",
    "HTML('''<script>\n",
    " $('div.input').hide();\n",
    "</script>\n",
    "''')"
   ]
  },
  {
   "cell_type": "code",
   "execution_count": 3,
   "id": "3781e059-34a3-4864-9e62-41ff7df24b69",
   "metadata": {},
   "outputs": [],
   "source": [
    "# Import the needed librairies \n",
    "from IPython.display import display\n",
    "from faceswaptools import QarnotFaceswapWrapper as QarnotWrapper\n",
    "# Do not show pip install info\n",
    "!python3 -m pip install qarnot > /dev/null\n",
    "import qarnot \n",
    "import ipywidgets as widgets\n",
    "from ipywidgets import Layout, Button, Box, Label, BoundedIntText, IntSlider, Dropdown, SelectMultiple\n",
    "from tkinter import Tk, filedialog\n",
    "from IPython.display import clear_output, display"
   ]
  },
  {
   "cell_type": "code",
   "execution_count": 4,
   "id": "cecb907e",
   "metadata": {},
   "outputs": [],
   "source": [
    "# Import the qarnot faceswap wrapper\n",
    "\n",
    "faceswapWrapper = QarnotWrapper()"
   ]
  },
  {
   "cell_type": "code",
   "execution_count": 5,
   "id": "cc72f579",
   "metadata": {},
   "outputs": [],
   "source": [
    "# Create all the Layout and CSS info\n",
    "form_item_layout = Layout(\n",
    "    display='flex',\n",
    "    flex_flow='row',\n",
    "    justify_content='space-between'\n",
    ")\n",
    "percent50layout = Layout(width='70%', height='30px')\n",
    "\n",
    "\n",
    "button_layout =  Layout(\n",
    "    margin=\"auto\",\n",
    "    width='20%',\n",
    "    height='50px'\n",
    ")\n",
    "small_button_layout =  Layout(\n",
    "    margin=\"auto\",\n",
    "    width='15%',\n",
    "    height='50px'\n",
    ")\n",
    "check_values_layout = {'border': '1px solid black', \"margin\":\"auto\",\"padding\":\"15px\", \"text-size\":\"20px\", \"font-weight\":\"20px\"}\n",
    "check_values_layout_box = Layout(width=\"100%\")"
   ]
  },
  {
   "cell_type": "code",
   "execution_count": 6,
   "id": "39868324",
   "metadata": {},
   "outputs": [],
   "source": [
    "# create the function widjet helpers\n",
    "def create_item_from_box(box, form_item_layout):\n",
    "    items = {}\n",
    "    for key, label, widget in box:\n",
    "        items[key] = Box([Label(value=label),widget], layout=form_item_layout) \n",
    "        display(items[key]) \n",
    "    return items\n",
    "\n",
    "def create_values_from_out(box, name_widget, form_item_layout):\n",
    "    display(Box([Label(value=box[0][1]), widgets.interactive_output(lambda a: print(\"task-\" + a + box[0][2]), {\"a\":name_widget}), widgets.interactive_output(lambda a: print(\"bucket-\" + a + box[0][2]), {\"a\":name_widget})], layout=form_item_layout))\n",
    "    display(Box([Label(value=box[1][1]), widgets.interactive_output(lambda a: print(\"task-\" + a + box[1][2]), {\"a\":name_widget}), widgets.interactive_output(lambda a: print(\"bucket-\" + a + box[1][2]), {\"a\":name_widget})], layout=form_item_layout))\n",
    "    display(Box([Label(value=box[2][1]), widgets.interactive_output(lambda a: print(\"task-\" + a + box[2][2]), {\"a\":name_widget}), widgets.interactive_output(lambda a: print(\"bucket-\" + a + box[2][2]), {\"a\":name_widget})], layout=form_item_layout))\n",
    "    display(Box([Label(value=box[3][1]), widgets.interactive_output(lambda a: print(\"task-\" + a + box[3][2]), {\"a\":name_widget}), widgets.interactive_output(lambda a: print(\"bucket-\" + a + box[3][2]), {\"a\":name_widget})], layout=form_item_layout))\n",
    "    display(Box([Label(value=box[4][1]), widgets.interactive_output(lambda a: print(\"task-\" + a + box[4][2]), {\"a\":name_widget}), widgets.interactive_output(lambda a: print(\"bucket-\" + a + box[4][2]), {\"a\":name_widget})], layout=form_item_layout))\n",
    "       \n",
    "def create_values_from_items(items, values):\n",
    "    for key in items:\n",
    "        values[key] = items[key].children[1].value\n",
    "    return values"
   ]
  },
  {
   "cell_type": "code",
   "execution_count": 7,
   "id": "43997185",
   "metadata": {},
   "outputs": [
    {
     "data": {
      "application/vnd.jupyter.widget-view+json": {
       "model_id": "f11c0549d1a04f70ae6148fe485fee3e",
       "version_major": 2,
       "version_minor": 0
      },
      "text/plain": [
       "Box(children=(Label(value='Qarnot Token'), Password(layout=Layout(height='30px', width='70%'), placeholder='En…"
      ]
     },
     "metadata": {},
     "output_type": "display_data"
    },
    {
     "data": {
      "application/vnd.jupyter.widget-view+json": {
       "model_id": "c6b1c5e404ca47c6a00bc12cef5b23f1",
       "version_major": 2,
       "version_minor": 0
      },
      "text/plain": [
       "Box(children=(Label(value='Project name'), Text(value='faceswap', layout=Layout(height='30px', width='70%'), p…"
      ]
     },
     "metadata": {},
     "output_type": "display_data"
    }
   ],
   "source": [
    "# Retrieve data 1 : retrieve the project name and token. \n",
    "name_widget = widgets.Text(placeholder='Type something', disabled=False, value=\"faceswap\", layout=percent50layout)\n",
    "prepare_box = [\n",
    "        (\"pwd\", \"Qarnot Token\", widgets.Password(placeholder='Enter your token', disabled=False, layout=percent50layout)),\n",
    "        (\"name\", \"Project name\", name_widget),\n",
    "]\n",
    "\n",
    "prepare_items = create_item_from_box(prepare_box, form_item_layout)\n",
    "\n",
    "#widgets.HBox([widgets.VBox([a, b, c]), out])\n",
    "val = create_values_from_items(prepare_items, {})\n"
   ]
  },
  {
   "cell_type": "code",
   "execution_count": 8,
   "id": "0139009d",
   "metadata": {},
   "outputs": [
    {
     "data": {
      "application/vnd.jupyter.widget-view+json": {
       "model_id": "aadccf574b864aa9b2a616a493fecc1e",
       "version_major": 2,
       "version_minor": 0
      },
      "text/plain": [
       "Box(children=(Label(value='GPU '), Select(index=1, layout=Layout(width='70%'), options=('No', 'A6000'), value=…"
      ]
     },
     "metadata": {},
     "output_type": "display_data"
    }
   ],
   "source": [
    "# ask for the profile information\n",
    "prepare_task_box = [\n",
    "    (\"material\", \"GPU \", widgets.Select(options=['No', 'A6000'], value='A6000', layout=Layout(width='70%'),disabled=False)),\n",
    "]\n",
    "\n",
    "task_items = create_item_from_box(prepare_task_box, form_item_layout)\n"
   ]
  },
  {
   "cell_type": "code",
   "execution_count": 9,
   "id": "84372629",
   "metadata": {},
   "outputs": [
    {
     "data": {
      "application/vnd.jupyter.widget-view+json": {
       "model_id": "4a0bc224aa0c45558b4c9a7588923435",
       "version_major": 2,
       "version_minor": 0
      },
      "text/plain": [
       "Box(children=(Label(value='Start name :'), Output(), Output()), layout=Layout(display='flex', flex_flow='row',…"
      ]
     },
     "metadata": {},
     "output_type": "display_data"
    },
    {
     "data": {
      "application/vnd.jupyter.widget-view+json": {
       "model_id": "2201eea949af4abeb8a9aa062f280945",
       "version_major": 2,
       "version_minor": 0
      },
      "text/plain": [
       "Box(children=(Label(value='Extract name :'), Output(), Output()), layout=Layout(display='flex', flex_flow='row…"
      ]
     },
     "metadata": {},
     "output_type": "display_data"
    },
    {
     "data": {
      "application/vnd.jupyter.widget-view+json": {
       "model_id": "a6a9c06afc264957b398b0205dc222b9",
       "version_major": 2,
       "version_minor": 0
      },
      "text/plain": [
       "Box(children=(Label(value='Trained-model name:'), Output(), Output()), layout=Layout(display='flex', flex_flow…"
      ]
     },
     "metadata": {},
     "output_type": "display_data"
    },
    {
     "data": {
      "application/vnd.jupyter.widget-view+json": {
       "model_id": "33eb7b8e6d3e4f03a7f1e7c3369c5c8e",
       "version_major": 2,
       "version_minor": 0
      },
      "text/plain": [
       "Box(children=(Label(value='Preparation name :'), Output(), Output()), layout=Layout(display='flex', flex_flow=…"
      ]
     },
     "metadata": {},
     "output_type": "display_data"
    },
    {
     "data": {
      "application/vnd.jupyter.widget-view+json": {
       "model_id": "6153310e58004ce4829cb52986d6460c",
       "version_major": 2,
       "version_minor": 0
      },
      "text/plain": [
       "Box(children=(Label(value='Conversion name :'), Output(), Output()), layout=Layout(display='flex', flex_flow='…"
      ]
     },
     "metadata": {},
     "output_type": "display_data"
    }
   ],
   "source": [
    "# Create the names based on the project name \n",
    "subname_out_box = [\n",
    "    (\"init-\",    \"Start name :\", \"-start\"),\n",
    "    (\"extract-\", \"Extract name :\", \"-extract\"),\n",
    "    (\"train-\",   \"Trained-model name:\",\"-train\"),\n",
    "    (\"prepare-\", \"Preparation name :\", \"-prepare\"),\n",
    "    (\"result-\",  \"Conversion name :\", \"-convert\"),\n",
    "]\n",
    "\n",
    "qarnot_items = create_values_from_out(subname_out_box, name_widget, form_item_layout)"
   ]
  },
  {
   "cell_type": "markdown",
   "id": "24c6bfe6",
   "metadata": {},
   "source": [
    "### Prepare the data"
   ]
  },
  {
   "cell_type": "code",
   "execution_count": 10,
   "id": "5af003ca",
   "metadata": {},
   "outputs": [
    {
     "data": {
      "application/vnd.jupyter.widget-view+json": {
       "model_id": "d0f483de9b314428a06b150e3a52f6ef",
       "version_major": 2,
       "version_minor": 0
      },
      "text/plain": [
       "Box(children=(Label(value='Train images/video folder A '), Text(value='', layout=Layout(height='30px', width='…"
      ]
     },
     "metadata": {},
     "output_type": "display_data"
    },
    {
     "data": {
      "application/vnd.jupyter.widget-view+json": {
       "model_id": "84ac6a9ceb104725a17bebb35ed644a5",
       "version_major": 2,
       "version_minor": 0
      },
      "text/plain": [
       "Box(children=(Label(value='Train images/videos folder B '), Text(value='', layout=Layout(height='30px', width=…"
      ]
     },
     "metadata": {},
     "output_type": "display_data"
    },
    {
     "data": {
      "application/vnd.jupyter.widget-view+json": {
       "model_id": "0839ab1f298e4ff7bb0731de9adbd842",
       "version_major": 2,
       "version_minor": 0
      },
      "text/plain": [
       "Box(children=(Label(value='Videos to be convert folder (Video of face A) '), Text(value='', layout=Layout(heig…"
      ]
     },
     "metadata": {},
     "output_type": "display_data"
    }
   ],
   "source": [
    "# Get the resources \n",
    "prepare_resource_box = [\n",
    "    (\"init-resources-foldera\", \"Train images/video folder A \", widgets.Text(placeholder='Type your path', disabled=False, layout=percent50layout)),\n",
    "    (\"init-resources-folderb\", \"Train images/videos folder B \", widgets.Text(placeholder='Type your path', disabled=False, layout=percent50layout)),\n",
    "    (\"init-resources-folderc\", \"Videos to be convert folder (Video of face A) \", widgets.Text(placeholder='Type your path', disabled=False, layout=percent50layout)),\n",
    "]\n",
    "\n",
    "resources_items = create_item_from_box(prepare_resource_box, form_item_layout)"
   ]
  },
  {
   "cell_type": "code",
   "execution_count": 11,
   "id": "bd73f9c5",
   "metadata": {},
   "outputs": [],
   "source": [
    "\n",
    "def create_subnames(dictionary, name):\n",
    "    for key, label, name_suffix in subname_out_box:\n",
    "        dictionary[key + \"bucket\"] = \"bucket-\" + name + name_suffix\n",
    "        dictionary[key + \"task\"] = \"task-\" + name + name_suffix\n",
    "\n",
    "def retrieve_all_values():\n",
    "    values = {}\n",
    "    create_values_from_items(prepare_items, values)\n",
    "    create_values_from_items(task_items, values)\n",
    "    create_values_from_items(resources_items, values)\n",
    "    create_subnames(values, values[\"name\"])\n",
    "    return values\n"
   ]
  },
  {
   "cell_type": "code",
   "execution_count": 12,
   "id": "6cd11812",
   "metadata": {
    "scrolled": false
   },
   "outputs": [
    {
     "data": {
      "application/vnd.jupyter.widget-view+json": {
       "model_id": "2d52c5bd7dff4b5b9908f7fb2272ad5d",
       "version_major": 2,
       "version_minor": 0
      },
      "text/plain": [
       "Box(children=(Button(button_style='info', description='Update Start Resources', icon='check', layout=Layout(he…"
      ]
     },
     "metadata": {},
     "output_type": "display_data"
    },
    {
     "data": {
      "application/vnd.jupyter.widget-view+json": {
       "model_id": "aa8f28b388f4403cac700a9a9f051321",
       "version_major": 2,
       "version_minor": 0
      },
      "text/plain": [
       "Output()"
      ]
     },
     "metadata": {},
     "output_type": "display_data"
    }
   ],
   "source": [
    "# Button to run the tasks:\n",
    "\n",
    "\n",
    "check_bucket_output = widgets.Output()\n",
    "\n",
    "def clic_update_resources(button):\n",
    "    values = retrieve_all_values()\n",
    "    init_bucket = values[\"init-bucket\"]\n",
    "    value_found = False\n",
    "    with check_bucket_output:\n",
    "        clear_output()\n",
    "        if values[\"init-resources-foldera\"]:\n",
    "            print('resources folder a:\"' + values[\"init-resources-foldera\"] + '\"')\n",
    "            value_found = True\n",
    "            faceswapWrapper.upload_bucket_folder(init_bucket, values[\"init-resources-foldera\"], values)\n",
    "        if values[\"init-resources-folderb\"]:\n",
    "            print('resources folder b:\"' + values[\"init-resources-folderb\"] + '\"')\n",
    "            value_found = True\n",
    "            faceswapWrapper.upload_bucket_folder(init_bucket, values[\"init-resources-folderb\"], values)\n",
    "        if values[\"init-resources-folderc\"]:\n",
    "            print('resources folder c:\"' + values[\"init-resources-folderc\"] + '\"')\n",
    "            value_found = True\n",
    "            faceswapWrapper.upload_bucket_folder(init_bucket, values[\"init-resources-folderc\"], values)\n",
    "        if not value_found:\n",
    "            print(\"No resources to be updated.\")\n",
    "\n",
    "def clic_clean_resources(button):\n",
    "    values = retrieve_all_values()\n",
    "    with check_bucket_output:\n",
    "        clear_output()\n",
    "        print(\"clean resources\")\n",
    "        init_bucket = values[\"init-bucket\"]\n",
    "        faceswapWrapper.retrieve_bucket_files(init_bucket, values)\n",
    "\n",
    "\n",
    "    \n",
    "def create_buckets_buttons():\n",
    "    buttons = []\n",
    "    for one_button_name, one_button_func in [(\"Update Start Resources\", clic_update_resources), (\"Clean Start Resources\", clic_clean_resources)]:\n",
    "        one_button = widgets.Button(description=one_button_name, disabled=False, button_style='info', tooltip=one_button_name, icon='check', layout=button_layout)\n",
    "        one_button.on_click(one_button_func)\n",
    "        buttons.append(one_button)\n",
    "    box_button = Box(buttons, layout=form_item_layout)\n",
    "    display(box_button, layout=button_layout)\n",
    "    display(check_bucket_output)\n",
    "    \n",
    "    \n",
    "create_buckets_buttons()\n"
   ]
  },
  {
   "cell_type": "markdown",
   "id": "3f3e1d96",
   "metadata": {},
   "source": [
    "#### See the data"
   ]
  },
  {
   "cell_type": "code",
   "execution_count": 13,
   "id": "dfebcbcf",
   "metadata": {
    "scrolled": true
   },
   "outputs": [
    {
     "data": {
      "application/vnd.jupyter.widget-view+json": {
       "model_id": "05a5fa5e94704bfc8f21c2e145f5be63",
       "version_major": 2,
       "version_minor": 0
      },
      "text/plain": [
       "Box(children=(Button(button_style='info', description='Check Start', icon='check', layout=Layout(height='50px'…"
      ]
     },
     "metadata": {},
     "output_type": "display_data"
    },
    {
     "data": {
      "application/vnd.jupyter.widget-view+json": {
       "model_id": "67777cdc394343938d8f109ead32a88a",
       "version_major": 2,
       "version_minor": 0
      },
      "text/plain": [
       "Output()"
      ]
     },
     "metadata": {},
     "output_type": "display_data"
    }
   ],
   "source": [
    "\n",
    "\n",
    "# check buckets\n",
    "def watch_buckets_buttons():\n",
    "    buttons = []\n",
    "    output = widgets.Output()\n",
    "    resources_buckets = [(\"Check Start\", lambda x: faceswapWrapper.print_bucket_dump(\"init-bucket\", retrieve_all_values(), output)),\n",
    "                         (\"Check Extracted\", lambda x: faceswapWrapper.print_bucket_dump(\"extract-bucket\", retrieve_all_values(), output)),\n",
    "                         (\"Check Trained\", lambda x: faceswapWrapper.print_bucket_dump(\"train-bucket\", retrieve_all_values(), output)),\n",
    "                         (\"Check Prepared\", lambda x: faceswapWrapper.print_bucket_dump(\"prepare-bucket\", retrieve_all_values(), output)),\n",
    "                         (\"Check Converted\", lambda x: faceswapWrapper.print_bucket_dump(\"result-bucket\", retrieve_all_values(), output))]\n",
    "    for one_button_name, one_button_func in resources_buckets:\n",
    "        one_button = widgets.Button(description=one_button_name, disabled=False, button_style='info', tooltip=one_button_name, icon='check', layout=small_button_layout)\n",
    "        one_button.on_click(one_button_func)\n",
    "        buttons.append(one_button)\n",
    "    box_button = Box(buttons, layout=form_item_layout)\n",
    "    display(box_button, layout=small_button_layout)\n",
    "    display(output)\n",
    "    \n",
    "    \n",
    "watch_buckets_buttons()"
   ]
  },
  {
   "cell_type": "markdown",
   "id": "b5195a3b",
   "metadata": {},
   "source": [
    "#### Clean the data"
   ]
  },
  {
   "cell_type": "code",
   "execution_count": 14,
   "id": "93bfa1b8",
   "metadata": {
    "scrolled": true
   },
   "outputs": [
    {
     "data": {
      "application/vnd.jupyter.widget-view+json": {
       "model_id": "3f1ddbeb39994d08a6bb7f65d733e343",
       "version_major": 2,
       "version_minor": 0
      },
      "text/plain": [
       "Box(children=(Button(button_style='info', description='Clean Start', icon='check', layout=Layout(height='50px'…"
      ]
     },
     "metadata": {},
     "output_type": "display_data"
    },
    {
     "data": {
      "application/vnd.jupyter.widget-view+json": {
       "model_id": "2880ee860032472db4ec6468c34f39b6",
       "version_major": 2,
       "version_minor": 0
      },
      "text/plain": [
       "Output()"
      ]
     },
     "metadata": {},
     "output_type": "display_data"
    }
   ],
   "source": [
    "\n",
    "\n",
    "# check buckets\n",
    "def watch_buckets_buttons():\n",
    "    buttons = []\n",
    "    output = widgets.Output()\n",
    "    resources_buckets = [(\"Clean Start\", lambda x: faceswapWrapper.print_bucket_dump(\"init-bucket\", retrieve_all_values(), output)),\n",
    "                         (\"Clean Extracted\", lambda x: faceswapWrapper.print_bucket_dump(\"extract-bucket\", retrieve_all_values(), output)),\n",
    "                         (\"Clean Trained\", lambda x: faceswapWrapper.print_bucket_dump(\"train-bucket\", retrieve_all_values(), output)),\n",
    "                         (\"Clean Prepared\", lambda x: faceswapWrapper.print_bucket_dump(\"prepare-bucket\", retrieve_all_values(), output)),\n",
    "                         (\"Clean Converted\", lambda x: faceswapWrapper.print_bucket_dump(\"result-bucket\", retrieve_all_values(), output))]\n",
    "    for one_button_name, one_button_func in resources_buckets:\n",
    "        one_button = widgets.Button(description=one_button_name, disabled=False, button_style='info', tooltip=one_button_name, icon='check', layout=small_button_layout)\n",
    "        one_button.on_click(one_button_func)\n",
    "        buttons.append(one_button)\n",
    "    box_button = Box(buttons, layout=form_item_layout)\n",
    "    display(box_button, layout=small_button_layout)\n",
    "    display(output)\n",
    "    \n",
    "    \n",
    "watch_buckets_buttons()"
   ]
  },
  {
   "cell_type": "markdown",
   "id": "27c79d72",
   "metadata": {},
   "source": [
    "### Run the tasks:\n",
    "\n",
    "| Extract | Train | Prepare conversion | Convert |\n",
    "|:--|:--:|:--:|--:|\n",
    "| extract the face images used to train the model from the images and videos |Create and train a model using the extracted images|Extract all the faces of the videos to be convert |convert the video using the trained model and the prepared extracted faces|\n",
    "\n",
    "* Extract\n",
    "> Extract the face images used to train the model from the images and videos\n",
    "\n",
    "* Train\n",
    "> Create and train a model using the extracted images\n",
    "* Prepare conversion\n",
    "> Extract all the faces of the videos to be convert\n",
    "* Convert\n",
    "> Convert the video using the trained model and the prepared extracted faces"
   ]
  },
  {
   "cell_type": "code",
   "execution_count": 15,
   "id": "208f376d",
   "metadata": {},
   "outputs": [
    {
     "data": {
      "application/vnd.jupyter.widget-view+json": {
       "model_id": "e4a7ad1d726f4201bc56bcc1bfd44883",
       "version_major": 2,
       "version_minor": 0
      },
      "text/plain": [
       "Box(children=(Button(button_style='info', description='Launch Extraction', icon='check', layout=Layout(height=…"
      ]
     },
     "metadata": {},
     "output_type": "display_data"
    },
    {
     "data": {
      "application/vnd.jupyter.widget-view+json": {
       "model_id": "cf4e9dab7a77457d8719b65fa1b3a0a6",
       "version_major": 2,
       "version_minor": 0
      },
      "text/plain": [
       "Output()"
      ]
     },
     "metadata": {},
     "output_type": "display_data"
    }
   ],
   "source": [
    "launch_task_output = widgets.Output()\n",
    "\n",
    "def clic_extract(info):\n",
    "    with launch_task_output:\n",
    "        clear_output()\n",
    "        values = retrieve_all_values()\n",
    "        task = faceswapWrapper.extract(values)\n",
    "        if task:\n",
    "            print(\"Task launched!\")\n",
    "            print(\"Status : \" + task.state)\n",
    "            print(\"Uuid: \" + task.uuid)\n",
    "    \n",
    "def clic_train(info):\n",
    "    with launch_task_output:\n",
    "        clear_output()\n",
    "        values = retrieve_all_values()\n",
    "        task = faceswapWrapper.train(values)\n",
    "        if task:\n",
    "            print(\"Task launched!\")\n",
    "            print(\"Status : \" + task.state)\n",
    "            print(\"Uuid: \" + task.uuid)\n",
    "    \n",
    "def clic_prepare(info):\n",
    "    with launch_task_output:\n",
    "        clear_output()\n",
    "        values = retrieve_all_values()\n",
    "        task = faceswapWrapper.prepare(values)\n",
    "        if task:\n",
    "            print(\"Task launched!\")\n",
    "            print(\"Status : \" + task.state)\n",
    "            print(\"Uuid: \" + task.uuid)\n",
    "    \n",
    "def clic_convert(info):\n",
    "    with launch_task_output:\n",
    "        clear_output()\n",
    "        values = retrieve_all_values()\n",
    "        # faceswapWrapper.test_values(values)\n",
    "        task = faceswapWrapper.convert(values)\n",
    "        if task:\n",
    "            print(\"Task launched!\")\n",
    "            print(\"Status : \" + task.state)\n",
    "            print(\"Uuid: \" + task.uuid)\n",
    "\n",
    "    \n",
    "def create_buttons():\n",
    "    buttons = []\n",
    "    output = widgets.Output()\n",
    "    for one_button_name, one_button_func in [(\"Launch Extraction\", clic_extract), \n",
    "                            (\"Launch Train\",clic_train), \n",
    "                            (\"Launch Prepare conversion\",clic_prepare), \n",
    "                            (\"Launch Convertion\", clic_convert)]:\n",
    "        one_button = widgets.Button(description=one_button_name, disabled=False, button_style='info', tooltip=one_button_name, icon='check', layout=button_layout)\n",
    "        one_button.on_click(one_button_func)\n",
    "        buttons.append(one_button)\n",
    "    box_button = Box(buttons, layout=form_item_layout)\n",
    "    display(box_button, layout=button_layout)\n",
    "    display(launch_task_output)\n",
    "\n",
    "    \n",
    "create_buttons()"
   ]
  },
  {
   "cell_type": "markdown",
   "id": "6fccf157",
   "metadata": {},
   "source": [
    "### Check the created tasks: "
   ]
  },
  {
   "cell_type": "code",
   "execution_count": 16,
   "id": "37883194",
   "metadata": {},
   "outputs": [
    {
     "data": {
      "application/vnd.jupyter.widget-view+json": {
       "model_id": "f3c40db22dc44e4fb73cf0a251cbe3d5",
       "version_major": 2,
       "version_minor": 0
      },
      "text/plain": [
       "Box(children=(Button(button_style='info', description='Check Extract', icon='check', layout=Layout(height='50p…"
      ]
     },
     "metadata": {},
     "output_type": "display_data"
    },
    {
     "data": {
      "application/vnd.jupyter.widget-view+json": {
       "model_id": "2e831892f1e74c5b918706afd26dd8c8",
       "version_major": 2,
       "version_minor": 0
      },
      "text/plain": [
       "Output()"
      ]
     },
     "metadata": {},
     "output_type": "display_data"
    }
   ],
   "source": [
    "# Check tasks by names\n",
    "def create_buttons():\n",
    "    buttons = []\n",
    "    output = widgets.Output()\n",
    "    for one_button_name, one_button_func in [(\"Check Extract\", lambda x : faceswapWrapper.print_task_dump(\"extract-task\", retrieve_all_values(), output)), \n",
    "                            (\"Check Train\", lambda x : faceswapWrapper.print_task_dump(\"train-task\", retrieve_all_values(), output)), \n",
    "                            (\"Check Prepare\", lambda x : faceswapWrapper.print_task_dump(\"prepare-task\", retrieve_all_values(), output)), \n",
    "                            (\"Check Convert\", lambda x : faceswapWrapper.print_task_dump(\"result-task\", retrieve_all_values(), output))]:\n",
    "        one_button = widgets.Button(description=one_button_name, disabled=False, button_style='info', tooltip=one_button_name, icon='check', layout=button_layout)\n",
    "        one_button.on_click(one_button_func)\n",
    "        buttons.append(one_button)\n",
    "    box_button = Box(buttons, layout=form_item_layout)\n",
    "    display(box_button, layout=button_layout)\n",
    "    display(output)\n",
    "\n",
    "    \n",
    "create_buttons()"
   ]
  },
  {
   "cell_type": "markdown",
   "id": "33c93d76",
   "metadata": {},
   "source": [
    "### Restart a created tasks:"
   ]
  },
  {
   "cell_type": "code",
   "execution_count": 17,
   "id": "b0ffeff0",
   "metadata": {
    "scrolled": true
   },
   "outputs": [
    {
     "data": {
      "application/vnd.jupyter.widget-view+json": {
       "model_id": "5064e5f7aeba4c898652cf4b0131779d",
       "version_major": 2,
       "version_minor": 0
      },
      "text/plain": [
       "Box(children=(Button(button_style='info', description='Restart Extract', icon='check', layout=Layout(height='5…"
      ]
     },
     "metadata": {},
     "output_type": "display_data"
    },
    {
     "data": {
      "application/vnd.jupyter.widget-view+json": {
       "model_id": "b8c00af312864cf2b525ab548b5aedfd",
       "version_major": 2,
       "version_minor": 0
      },
      "text/plain": [
       "Output()"
      ]
     },
     "metadata": {},
     "output_type": "display_data"
    }
   ],
   "source": [
    "# Check tasks by names\n",
    "def create_buttons():\n",
    "    buttons = []\n",
    "    output = widgets.Output()\n",
    "    for one_button_name, one_button_func in [(\"Restart Extract\", lambda x : faceswapWrapper.restart_task(\"extract-task\", retrieve_all_values(), output)), \n",
    "                            (\"Restart Train\", lambda x : faceswapWrapper.restart_task(\"train-task\", retrieve_all_values(), output)), \n",
    "                            (\"Restart Prepare\", lambda x : faceswapWrapper.restart_task(\"prepare-task\", retrieve_all_values(), output)), \n",
    "                            (\"Restart Convert\", lambda x : faceswapWrapper.restart_task(\"result-task\", retrieve_all_values(), output))]:\n",
    "        one_button = widgets.Button(description=one_button_name, disabled=False, button_style='info', tooltip=one_button_name, icon='check', layout=button_layout)\n",
    "        one_button.on_click(one_button_func)\n",
    "        buttons.append(one_button)\n",
    "    box_button = Box(buttons, layout=form_item_layout)\n",
    "    display(box_button, layout=button_layout)\n",
    "    display(output)\n",
    "\n",
    "    \n",
    "create_buttons()"
   ]
  },
  {
   "cell_type": "markdown",
   "id": "0cf7abb5",
   "metadata": {},
   "source": [
    "### Clean the created tasks:"
   ]
  },
  {
   "cell_type": "code",
   "execution_count": 18,
   "id": "2e93bf95",
   "metadata": {},
   "outputs": [
    {
     "data": {
      "application/vnd.jupyter.widget-view+json": {
       "model_id": "a7bf42bd749d4412bf2f8367c5e1c8bc",
       "version_major": 2,
       "version_minor": 0
      },
      "text/plain": [
       "Box(children=(Button(button_style='info', description='Remove Extract', icon='check', layout=Layout(height='50…"
      ]
     },
     "metadata": {},
     "output_type": "display_data"
    },
    {
     "data": {
      "application/vnd.jupyter.widget-view+json": {
       "model_id": "1157774da85d437bb283764277bde0a8",
       "version_major": 2,
       "version_minor": 0
      },
      "text/plain": [
       "Output()"
      ]
     },
     "metadata": {},
     "output_type": "display_data"
    }
   ],
   "source": [
    "# Check tasks by names\n",
    "def create_buttons():\n",
    "    buttons = []\n",
    "    output = widgets.Output()\n",
    "    for one_button_name, one_button_func in [(\"Remove Extract\", lambda x : faceswapWrapper.remove_task(\"extract-task\", retrieve_all_values(), output)), \n",
    "                            (\"Remove Train\", lambda x : faceswapWrapper.remove_task(\"train-task\", retrieve_all_values(), output)), \n",
    "                            (\"Remove Prepare\", lambda x : faceswapWrapper.remove_task(\"prepare-task\", retrieve_all_values(), output)), \n",
    "                            (\"Remove Convert\", lambda x : faceswapWrapper.remove_task(\"result-task\", retrieve_all_values(), output))]:\n",
    "        one_button = widgets.Button(description=one_button_name, disabled=False, button_style='info', tooltip=one_button_name, icon='check', layout=button_layout)\n",
    "        one_button.on_click(one_button_func)\n",
    "        buttons.append(one_button)\n",
    "    box_button = Box(buttons, layout=form_item_layout)\n",
    "    display(box_button, layout=button_layout)\n",
    "    display(output)\n",
    "\n",
    "    \n",
    "create_buttons()"
   ]
  },
  {
   "cell_type": "code",
   "execution_count": null,
   "id": "8eec278b",
   "metadata": {},
   "outputs": [],
   "source": []
  }
 ],
 "metadata": {
  "kernelspec": {
   "display_name": "Python 3 (ipykernel)",
   "language": "python",
   "name": "python3"
  },
  "language_info": {
   "codemirror_mode": {
    "name": "ipython",
    "version": 3
   },
   "file_extension": ".py",
   "mimetype": "text/x-python",
   "name": "python",
   "nbconvert_exporter": "python",
   "pygments_lexer": "ipython3",
   "version": "3.8.10"
  }
 },
 "nbformat": 4,
 "nbformat_minor": 5
}
