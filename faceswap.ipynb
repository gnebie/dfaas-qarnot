{
 "cells": [
  {
   "cell_type": "markdown",
   "id": "00d8de2f",
   "metadata": {},
   "source": [
    "# Qarnot Faceswap Payload\n",
    "\n",
    "This is a qarnot payload to create a deepfake model from scratch.  \n",
    "This model is create with the framework `Faceswap` and perform a face swap of 2 people. \n",
    "\n",
    "For more information, go to [our blog](https://blog.qarnot.com/) \n",
    "\n",
    "\n",
    "## Qarnot \n",
    "\n",
    "To create your Qarnot account and get your token: [Qarnot account](https://account.qarnot.com)  \n",
    "\n",
    "To have a better interface and see the running more interactivly go to the qarnot console. [Qarnot console](https://console.qarnot.com/)  \n",
    "\n",
    "For more information, go to our [Site](https://computing.qarnot.com/en/) and check our [Documentation](https://computing.qarnot.com/en/developers/overview/qarnot-computing-home)  \n",
    "\n"
   ]
  },
  {
   "cell_type": "code",
   "execution_count": 3,
   "id": "3781e059-34a3-4864-9e62-41ff7df24b69",
   "metadata": {},
   "outputs": [],
   "source": [
    "# Import the needed librairies \n",
    "from IPython.display import display\n",
    "from faceswaptools import QarnotFaceswapWrapper as QarnotWrapper\n",
    "# Do not show pip install info\n",
    "!python3 -m pip install qarnot > /dev/null\n",
    "import qarnot \n",
    "import ipywidgets as widgets\n",
    "from ipywidgets import Layout, Button, Box, Label, BoundedIntText, IntSlider, Dropdown, SelectMultiple\n",
    "from tkinter import Tk, filedialog\n",
    "from IPython.display import clear_output, display\n",
    "# Import the qarnot faceswap wrapper\n",
    "\n",
    "faceswapWrapper = QarnotWrapper()"
   ]
  },
  {
   "cell_type": "code",
   "execution_count": 4,
   "id": "cc72f579",
   "metadata": {},
   "outputs": [],
   "source": [
    "# Create all the Layout and CSS info\n",
    "form_item_layout = Layout(\n",
    "    display='flex',\n",
    "    flex_flow='row',\n",
    "    justify_content='space-between'\n",
    ")\n",
    "percent50layout = Layout(width='70%', height='30px')\n",
    "\n",
    "\n",
    "button_layout =  Layout(\n",
    "    margin=\"auto\",\n",
    "    width='20%',\n",
    "    height='50px'\n",
    ")\n",
    "small_button_layout =  Layout(\n",
    "    margin=\"auto\",\n",
    "    width='15%',\n",
    "    height='50px'\n",
    ")\n",
    "check_values_layout = {'border': '1px solid black', \"margin\":\"auto\",\"padding\":\"15px\", \"text-size\":\"20px\", \"font-weight\":\"20px\"}\n",
    "check_values_layout_box = Layout(width=\"100%\")"
   ]
  },
  {
   "cell_type": "code",
   "execution_count": 5,
   "id": "39868324",
   "metadata": {},
   "outputs": [],
   "source": [
    "# create the function widjet helpers\n",
    "def create_item_from_box(box, form_item_layout):\n",
    "    items = {}\n",
    "    for key, label, widget in box:\n",
    "        items[key] = Box([Label(value=label),widget], layout=form_item_layout) \n",
    "        display(items[key]) \n",
    "    return items\n",
    "\n",
    "def create_values_from_out(box, name_widget, form_item_layout):\n",
    "    display(Box([Label(value=box[0][1]), widgets.interactive_output(lambda a: print(\"task-\" + a + box[0][2]), {\"a\":name_widget}), widgets.interactive_output(lambda a: print(\"bucket-\" + a + box[0][2]), {\"a\":name_widget})], layout=form_item_layout))\n",
    "    display(Box([Label(value=box[1][1]), widgets.interactive_output(lambda a: print(\"task-\" + a + box[1][2]), {\"a\":name_widget}), widgets.interactive_output(lambda a: print(\"bucket-\" + a + box[1][2]), {\"a\":name_widget})], layout=form_item_layout))\n",
    "    display(Box([Label(value=box[2][1]), widgets.interactive_output(lambda a: print(\"task-\" + a + box[2][2]), {\"a\":name_widget}), widgets.interactive_output(lambda a: print(\"bucket-\" + a + box[2][2]), {\"a\":name_widget})], layout=form_item_layout))\n",
    "    display(Box([Label(value=box[3][1]), widgets.interactive_output(lambda a: print(\"task-\" + a + box[3][2]), {\"a\":name_widget}), widgets.interactive_output(lambda a: print(\"bucket-\" + a + box[3][2]), {\"a\":name_widget})], layout=form_item_layout))\n",
    "    display(Box([Label(value=box[4][1]), widgets.interactive_output(lambda a: print(\"task-\" + a + box[4][2]), {\"a\":name_widget}), widgets.interactive_output(lambda a: print(\"bucket-\" + a + box[4][2]), {\"a\":name_widget})], layout=form_item_layout))\n",
    "       \n",
    "def create_values_from_items(items, values):\n",
    "    for key in items:\n",
    "        values[key] = items[key].children[1].value\n",
    "    return values"
   ]
  },
  {
   "cell_type": "markdown",
   "id": "22c61301",
   "metadata": {},
   "source": [
    "### Get your Qarnot project info\n",
    "\n",
    "Pass your Qarnot token (find in your account)  \n",
    "\n",
    "And choose your project name. \n",
    "Your project name will be your project ID and it will be used to easily run and recovery your project.    \n",
    "\n",
    "And choose if you want to run the payload in CPU or GPU. \n",
    "We recommand the run on GPU. \n",
    "A GPU is more expansive by hour but quicker. the train and conversion will be chepper on GPU. \n",
    "\n",
    "To use a GPU, contact use at Qarnot at sales@qarnot.com.  \n"
   ]
  },
  {
   "cell_type": "code",
   "execution_count": 25,
   "id": "43997185",
   "metadata": {},
   "outputs": [
    {
     "data": {
      "application/vnd.jupyter.widget-view+json": {
       "model_id": "2c8b62b7e59549f18e1a6f666bf29b85",
       "version_major": 2,
       "version_minor": 0
      },
      "text/plain": [
       "Box(children=(Label(value='Qarnot Token'), Password(layout=Layout(height='30px', width='70%'), placeholder='En…"
      ]
     },
     "metadata": {},
     "output_type": "display_data"
    },
    {
     "data": {
      "application/vnd.jupyter.widget-view+json": {
       "model_id": "451fb899d9a74d4cad5febcbdfe16c54",
       "version_major": 2,
       "version_minor": 0
      },
      "text/plain": [
       "Box(children=(Label(value='Project name'), Text(value='faceswap', layout=Layout(height='30px', width='70%'), p…"
      ]
     },
     "metadata": {},
     "output_type": "display_data"
    }
   ],
   "source": [
    "# Retrieve data 1 : retrieve the project name and token. \n",
    "name_widget = widgets.Text(placeholder='Type something', disabled=False, value=\"faceswap\", layout=percent50layout)\n",
    "prepare_box = [\n",
    "        (\"pwd\", \"Qarnot Token\", widgets.Password(placeholder='Enter your token', disabled=False, layout=percent50layout)),\n",
    "        (\"name\", \"Project name\", name_widget),\n",
    "]\n",
    "\n",
    "prepare_items = create_item_from_box(prepare_box, form_item_layout)\n",
    "\n",
    "#widgets.HBox([widgets.VBox([a, b, c]), out])\n",
    "val = create_values_from_items(prepare_items, {})\n"
   ]
  },
  {
   "cell_type": "code",
   "execution_count": 7,
   "id": "0139009d",
   "metadata": {},
   "outputs": [
    {
     "data": {
      "application/vnd.jupyter.widget-view+json": {
       "model_id": "a148b52556894a049a1a4afa1e71069c",
       "version_major": 2,
       "version_minor": 0
      },
      "text/plain": [
       "Box(children=(Label(value='GPU '), Select(index=1, layout=Layout(width='70%'), options=('No', 'A6000'), value=…"
      ]
     },
     "metadata": {},
     "output_type": "display_data"
    }
   ],
   "source": [
    "# ask for the profile information\n",
    "prepare_task_box = [\n",
    "    (\"material\", \"GPU \", widgets.Select(options=['No', 'A6000'], value='A6000', layout=Layout(width='70%'),disabled=False)),\n",
    "]\n",
    "\n",
    "task_items = create_item_from_box(prepare_task_box, form_item_layout)\n"
   ]
  },
  {
   "cell_type": "code",
   "execution_count": 8,
   "id": "84372629",
   "metadata": {},
   "outputs": [
    {
     "data": {
      "application/vnd.jupyter.widget-view+json": {
       "model_id": "c004338670be432984ee234434de8e7e",
       "version_major": 2,
       "version_minor": 0
      },
      "text/plain": [
       "Box(children=(Label(value='Start name :'), Output(), Output()), layout=Layout(display='flex', flex_flow='row',…"
      ]
     },
     "metadata": {},
     "output_type": "display_data"
    },
    {
     "data": {
      "application/vnd.jupyter.widget-view+json": {
       "model_id": "70236bdf8c3b4f1097d55972d2ba4017",
       "version_major": 2,
       "version_minor": 0
      },
      "text/plain": [
       "Box(children=(Label(value='Extract name :'), Output(), Output()), layout=Layout(display='flex', flex_flow='row…"
      ]
     },
     "metadata": {},
     "output_type": "display_data"
    },
    {
     "data": {
      "application/vnd.jupyter.widget-view+json": {
       "model_id": "e5f488d05d71416fa4a627b645d48762",
       "version_major": 2,
       "version_minor": 0
      },
      "text/plain": [
       "Box(children=(Label(value='Trained-model name:'), Output(), Output()), layout=Layout(display='flex', flex_flow…"
      ]
     },
     "metadata": {},
     "output_type": "display_data"
    },
    {
     "data": {
      "application/vnd.jupyter.widget-view+json": {
       "model_id": "88e7a870e3a946af9a25993edb72096a",
       "version_major": 2,
       "version_minor": 0
      },
      "text/plain": [
       "Box(children=(Label(value='Preparation name :'), Output(), Output()), layout=Layout(display='flex', flex_flow=…"
      ]
     },
     "metadata": {},
     "output_type": "display_data"
    },
    {
     "data": {
      "application/vnd.jupyter.widget-view+json": {
       "model_id": "72f281a023414537852bee0d96e4291c",
       "version_major": 2,
       "version_minor": 0
      },
      "text/plain": [
       "Box(children=(Label(value='Conversion name :'), Output(), Output()), layout=Layout(display='flex', flex_flow='…"
      ]
     },
     "metadata": {},
     "output_type": "display_data"
    }
   ],
   "source": [
    "# Create the names based on the project name \n",
    "subname_out_box = [\n",
    "    (\"init-\",    \"Start name :\", \"-start\"),\n",
    "    (\"extract-\", \"Extract name :\", \"-extract\"),\n",
    "    (\"train-\",   \"Trained-model name:\",\"-train\"),\n",
    "    (\"prepare-\", \"Preparation name :\", \"-prepare\"),\n",
    "    (\"result-\",  \"Conversion name :\", \"-convert\"),\n",
    "]\n",
    "\n",
    "qarnot_items = create_values_from_out(subname_out_box, name_widget, form_item_layout)"
   ]
  },
  {
   "cell_type": "markdown",
   "id": "24c6bfe6",
   "metadata": {},
   "source": [
    "### Prepare your data\n",
    "\n",
    "Upload the images and videos to train the 2 faces  \n",
    "\n",
    "Upload the video to be convert.  "
   ]
  },
  {
   "cell_type": "code",
   "execution_count": 9,
   "id": "5af003ca",
   "metadata": {},
   "outputs": [
    {
     "data": {
      "application/vnd.jupyter.widget-view+json": {
       "model_id": "301a70e8e9b4430eab9e320e6f6af9a1",
       "version_major": 2,
       "version_minor": 0
      },
      "text/plain": [
       "Box(children=(Label(value='Train images/video folder A '), Text(value='', layout=Layout(height='30px', width='…"
      ]
     },
     "metadata": {},
     "output_type": "display_data"
    },
    {
     "data": {
      "application/vnd.jupyter.widget-view+json": {
       "model_id": "4ed4eef111b24853894baf786c158c00",
       "version_major": 2,
       "version_minor": 0
      },
      "text/plain": [
       "Box(children=(Label(value='Train images/videos folder B '), Text(value='', layout=Layout(height='30px', width=…"
      ]
     },
     "metadata": {},
     "output_type": "display_data"
    },
    {
     "data": {
      "application/vnd.jupyter.widget-view+json": {
       "model_id": "e51477235a214887a406e472f785c9ff",
       "version_major": 2,
       "version_minor": 0
      },
      "text/plain": [
       "Box(children=(Label(value='Videos to be convert folder (Video of face A) '), Text(value='', layout=Layout(heig…"
      ]
     },
     "metadata": {},
     "output_type": "display_data"
    }
   ],
   "source": [
    "# Get the resources \n",
    "prepare_resource_box = [\n",
    "    (\"init-resources-foldera\", \"Train images/video folder A \", widgets.Text(placeholder='Type your path', disabled=False, layout=percent50layout)),\n",
    "    (\"init-resources-folderb\", \"Train images/videos folder B \", widgets.Text(placeholder='Type your path', disabled=False, layout=percent50layout)),\n",
    "    (\"init-resources-folderc\", \"Videos to be convert folder (Video of face A) \", widgets.Text(placeholder='Type your path', disabled=False, layout=percent50layout)),\n",
    "]\n",
    "\n",
    "resources_items = create_item_from_box(prepare_resource_box, form_item_layout)"
   ]
  },
  {
   "cell_type": "code",
   "execution_count": 10,
   "id": "bd73f9c5",
   "metadata": {},
   "outputs": [],
   "source": [
    "\n",
    "def create_subnames(dictionary, name):\n",
    "    for key, label, name_suffix in subname_out_box:\n",
    "        dictionary[key + \"bucket\"] = \"bucket-\" + name + name_suffix\n",
    "        dictionary[key + \"task\"] = \"task-\" + name + name_suffix\n",
    "\n",
    "def retrieve_all_values():\n",
    "    values = {}\n",
    "    create_values_from_items(prepare_items, values)\n",
    "    create_values_from_items(task_items, values)\n",
    "    create_values_from_items(resources_items, values)\n",
    "    create_subnames(values, values[\"name\"])\n",
    "    return values\n"
   ]
  },
  {
   "cell_type": "code",
   "execution_count": 11,
   "id": "df5809f4",
   "metadata": {},
   "outputs": [],
   "source": [
    "bucket_output = widgets.Output()\n",
    "\n",
    "def clic_update_resources(button):\n",
    "    values = retrieve_all_values()\n",
    "    init_bucket = values[\"init-bucket\"]\n",
    "    value_found = False\n",
    "    with bucket_output:\n",
    "        clear_output()\n",
    "        if values[\"init-resources-foldera\"]:\n",
    "            print('resources folder a:\"' + values[\"init-resources-foldera\"] + '\"')\n",
    "            value_found = True\n",
    "            faceswapWrapper.upload_bucket_folder(init_bucket, values[\"init-resources-foldera\"], values)\n",
    "        if values[\"init-resources-folderb\"]:\n",
    "            print('resources folder b:\"' + values[\"init-resources-folderb\"] + '\"')\n",
    "            value_found = True\n",
    "            faceswapWrapper.upload_bucket_folder(init_bucket, values[\"init-resources-folderb\"], values)\n",
    "        if values[\"init-resources-folderc\"]:\n",
    "            print('resources folder c:\"' + values[\"init-resources-folderc\"] + '\"')\n",
    "            value_found = True\n",
    "            faceswapWrapper.upload_bucket_folder(init_bucket, values[\"init-resources-folderc\"], values)\n",
    "        if not value_found:\n",
    "            print(\"No resources to be updated.\")\n",
    "\n",
    "def clic_clean_resources(button):\n",
    "    values = retrieve_all_values()\n",
    "    with bucket_output:\n",
    "        clear_output()\n",
    "        print(\"clean resources\")\n",
    "        init_bucket = values[\"init-bucket\"]\n",
    "        faceswapWrapper.retrieve_bucket_files(init_bucket, values)\n",
    "    \n",
    "def create_buckets_buttons():\n",
    "    buttons = []\n",
    "    for one_button_name, one_button_func in [(\"Update Start Resources\", clic_update_resources), (\"Clean Start Resources\", clic_clean_resources)]:\n",
    "        one_button = widgets.Button(description=one_button_name, disabled=False, button_style='info', tooltip=one_button_name, icon='check', layout=button_layout)\n",
    "        one_button.on_click(one_button_func)\n",
    "        buttons.append(one_button)\n",
    "    return Box(buttons, layout=form_item_layout)\n",
    "    \n",
    "    \n",
    "def watch_buckets_buttons():\n",
    "    buttons = []\n",
    "    resources_buckets = [(\"Check Start\", lambda x: faceswapWrapper.print_bucket_dump(\"init-bucket\", retrieve_all_values(), bucket_output)),\n",
    "                         (\"Check Extracted\", lambda x: faceswapWrapper.print_bucket_dump(\"extract-bucket\", retrieve_all_values(), bucket_output)),\n",
    "                         (\"Check Trained\", lambda x: faceswapWrapper.print_bucket_dump(\"train-bucket\", retrieve_all_values(), bucket_output)),\n",
    "                         (\"Check Prepared\", lambda x: faceswapWrapper.print_bucket_dump(\"prepare-bucket\", retrieve_all_values(), bucket_output)),\n",
    "                         (\"Check Converted\", lambda x: faceswapWrapper.print_bucket_dump(\"result-bucket\", retrieve_all_values(), bucket_output))]\n",
    "    for one_button_name, one_button_func in resources_buckets:\n",
    "        one_button = widgets.Button(description=one_button_name, disabled=False, button_style='info', tooltip=one_button_name, icon='check', layout=small_button_layout)\n",
    "        one_button.on_click(one_button_func)\n",
    "        buttons.append(one_button)\n",
    "    return Box(buttons, layout=form_item_layout)\n",
    "def clean_buckets_buttons():\n",
    "    buttons = []\n",
    "    resources_buckets = [(\"Clean Start\", lambda x: faceswapWrapper.print_bucket_dump(\"init-bucket\", retrieve_all_values(), bucket_output)),\n",
    "                         (\"Clean Extracted\", lambda x: faceswapWrapper.print_bucket_dump(\"extract-bucket\", retrieve_all_values(), bucket_output)),\n",
    "                         (\"Clean Trained\", lambda x: faceswapWrapper.print_bucket_dump(\"train-bucket\", retrieve_all_values(), bucket_output)),\n",
    "                         (\"Clean Prepared\", lambda x: faceswapWrapper.print_bucket_dump(\"prepare-bucket\", retrieve_all_values(), bucket_output)),\n",
    "                         (\"Clean Converted\", lambda x: faceswapWrapper.print_bucket_dump(\"result-bucket\", retrieve_all_values(), bucket_output))]\n",
    "    for one_button_name, one_button_func in resources_buckets:\n",
    "        one_button = widgets.Button(description=one_button_name, disabled=False, button_style='info', tooltip=one_button_name, icon='check', layout=small_button_layout)\n",
    "        one_button.on_click(one_button_func)\n",
    "        buttons.append(one_button)\n",
    "    return Box(buttons, layout=form_item_layout)\n",
    "\n",
    "bucket_children = [create_buckets_buttons(), watch_buckets_buttons(), clean_buckets_buttons()]\n",
    "bucket_titles = (\"Upload the resources\", \"Check the bucket files\", \"Delete the resources\")\n"
   ]
  },
  {
   "cell_type": "code",
   "execution_count": 12,
   "id": "1efead68",
   "metadata": {},
   "outputs": [],
   "source": [
    "task_output = widgets.Output()\n",
    "\n",
    "def clic_extract(info):\n",
    "    with task_output:\n",
    "        clear_output()\n",
    "        values = retrieve_all_values()\n",
    "        task = faceswapWrapper.extract(values)\n",
    "        if task:\n",
    "            print(\"Task launched!\")\n",
    "            print(\"Status : \" + task.state)\n",
    "            print(\"Uuid: \" + task.uuid)\n",
    "    \n",
    "def clic_train(info):\n",
    "    with task_output:\n",
    "        clear_output()\n",
    "        values = retrieve_all_values()\n",
    "        task = faceswapWrapper.train(values)\n",
    "        if task:\n",
    "            print(\"Task launched!\")\n",
    "            print(\"Status : \" + task.state)\n",
    "            print(\"Uuid: \" + task.uuid)\n",
    "    \n",
    "def clic_prepare(info):\n",
    "    with task_output:\n",
    "        clear_output()\n",
    "        values = retrieve_all_values()\n",
    "        task = faceswapWrapper.prepare(values)\n",
    "        if task:\n",
    "            print(\"Task launched!\")\n",
    "            print(\"Status : \" + task.state)\n",
    "            print(\"Uuid: \" + task.uuid)\n",
    "    \n",
    "def clic_convert(info):\n",
    "    with task_output:\n",
    "        clear_output()\n",
    "        values = retrieve_all_values()\n",
    "        # faceswapWrapper.test_values(values)\n",
    "        task = faceswapWrapper.convert(values)\n",
    "        if task:\n",
    "            print(\"Task launched!\")\n",
    "            print(\"Status : \" + task.state)\n",
    "            print(\"Uuid: \" + task.uuid)\n",
    "\n",
    "    \n",
    "def create_buttons_launch_task(display_buttons=True):\n",
    "    buttons = []\n",
    "    for one_button_name, one_button_func in [(\"Launch Extraction\", clic_extract), \n",
    "                            (\"Launch Train\",clic_train), \n",
    "                            (\"Launch Prepare conversion\",clic_prepare), \n",
    "                            (\"Launch Convertion\", clic_convert)]:\n",
    "        one_button = widgets.Button(description=one_button_name, disabled=False, button_style='info', tooltip=one_button_name, icon='check', layout=button_layout)\n",
    "        one_button.on_click(one_button_func)\n",
    "        buttons.append(one_button)\n",
    "    return  Box(buttons, layout=form_item_layout) \n",
    "\n",
    "    \n",
    "def create_buttons_check_task():\n",
    "    buttons = []\n",
    "    for one_button_name, one_button_func in [(\"Check Extract\", lambda x : faceswapWrapper.print_task_dump(\"extract-task\", retrieve_all_values(), task_output)), \n",
    "                            (\"Check Train\", lambda x : faceswapWrapper.print_task_dump(\"train-task\", retrieve_all_values(), task_output)), \n",
    "                            (\"Check Prepare\", lambda x : faceswapWrapper.print_task_dump(\"prepare-task\", retrieve_all_values(), task_output)), \n",
    "                            (\"Check Convert\", lambda x : faceswapWrapper.print_task_dump(\"result-task\", retrieve_all_values(), task_output))]:\n",
    "        one_button = widgets.Button(description=one_button_name, disabled=False, button_style='info', tooltip=one_button_name, icon='check', layout=button_layout)\n",
    "        one_button.on_click(one_button_func)\n",
    "        buttons.append(one_button)\n",
    "    return Box(buttons, layout=form_item_layout)\n",
    "\n",
    "def create_buttons_remove_task():\n",
    "    buttons = []\n",
    "    output = widgets.Output()\n",
    "    for one_button_name, one_button_func in [(\"Remove Extract\", lambda x : faceswapWrapper.remove_task(\"extract-task\", retrieve_all_values(), task_output)), \n",
    "                            (\"Remove Train\", lambda x : faceswapWrapper.remove_task(\"train-task\", retrieve_all_values(), task_output)), \n",
    "                            (\"Remove Prepare\", lambda x : faceswapWrapper.remove_task(\"prepare-task\", retrieve_all_values(), task_output)), \n",
    "                            (\"Remove Convert\", lambda x : faceswapWrapper.remove_task(\"result-task\", retrieve_all_values(), task_output))]:\n",
    "        one_button = widgets.Button(description=one_button_name, disabled=False, button_style='info', tooltip=one_button_name, icon='check', layout=button_layout)\n",
    "        one_button.on_click(one_button_func)\n",
    "        buttons.append(one_button)\n",
    "    return Box(buttons, layout=form_item_layout)\n",
    "\n",
    "def create_buttons_restart_task():\n",
    "    buttons = []\n",
    "    output = widgets.Output()\n",
    "    for one_button_name, one_button_func in [(\"Restart Extract\", lambda x : faceswapWrapper.restart_task(\"extract-task\", retrieve_all_values(), task_output)), \n",
    "                            (\"Restart Train\", lambda x : faceswapWrapper.restart_task(\"train-task\", retrieve_all_values(), task_output)), \n",
    "                            (\"Restart Prepare\", lambda x : faceswapWrapper.restart_task(\"prepare-task\", retrieve_all_values(), task_output)), \n",
    "                            (\"Restart Convert\", lambda x : faceswapWrapper.restart_task(\"result-task\", retrieve_all_values(), task_output))]:\n",
    "        one_button = widgets.Button(description=one_button_name, disabled=False, button_style='info', tooltip=one_button_name, icon='check', layout=button_layout)\n",
    "        one_button.on_click(one_button_func)\n",
    "        buttons.append(one_button)\n",
    "    return Box(buttons, layout=form_item_layout)\n",
    "\n",
    "\n",
    "\n",
    "\n",
    "task_children = [create_buttons_launch_task(), create_buttons_check_task(), create_buttons_restart_task(), create_buttons_remove_task()]\n",
    "task_titles = (\"Launch a task\", \"Check a task\", \"Restart a Task\", \"Remove a Task\")\n",
    "\n"
   ]
  },
  {
   "cell_type": "markdown",
   "id": "7e26bfd9",
   "metadata": {},
   "source": [
    "## Test acordeon"
   ]
  },
  {
   "cell_type": "code",
   "execution_count": 13,
   "id": "1699f141",
   "metadata": {},
   "outputs": [
    {
     "data": {
      "application/vnd.jupyter.widget-view+json": {
       "model_id": "16f80b6986cd430483099706cfdc68b0",
       "version_major": 2,
       "version_minor": 0
      },
      "text/plain": [
       "Accordion(children=(Box(children=(Button(button_style='info', description='Update Start Resources', icon='chec…"
      ]
     },
     "metadata": {},
     "output_type": "display_data"
    },
    {
     "data": {
      "application/vnd.jupyter.widget-view+json": {
       "model_id": "7b9c36b0659844f395fb079c5641a5fb",
       "version_major": 2,
       "version_minor": 0
      },
      "text/plain": [
       "Output()"
      ]
     },
     "metadata": {},
     "output_type": "display_data"
    }
   ],
   "source": [
    "accordion = widgets.Accordion(children=bucket_children, titles=bucket_titles)\n",
    "for i in range(len(bucket_titles)):\n",
    "    accordion.set_title(i, bucket_titles[i])\n",
    "display(accordion)\n",
    "display(bucket_output)"
   ]
  },
  {
   "cell_type": "code",
   "execution_count": 14,
   "id": "2105c33d",
   "metadata": {},
   "outputs": [
    {
     "data": {
      "application/vnd.jupyter.widget-view+json": {
       "model_id": "a180d0e6c41e4088b3e88aa3988d6698",
       "version_major": 2,
       "version_minor": 0
      },
      "text/plain": [
       "Accordion(children=(Box(children=(Button(button_style='info', description='Launch Extraction', icon='check', l…"
      ]
     },
     "metadata": {},
     "output_type": "display_data"
    },
    {
     "data": {
      "application/vnd.jupyter.widget-view+json": {
       "model_id": "3cf162211d924cde8884333da7444d3c",
       "version_major": 2,
       "version_minor": 0
      },
      "text/plain": [
       "Output()"
      ]
     },
     "metadata": {},
     "output_type": "display_data"
    }
   ],
   "source": [
    "accordion = widgets.Accordion(children=task_children, titles=task_titles)\n",
    "for i in range(len(task_titles)):\n",
    "    accordion.set_title(i, task_titles[i])\n",
    "display(accordion)\n",
    "display(task_output)\n"
   ]
  },
  {
   "cell_type": "markdown",
   "id": "9012a8d9",
   "metadata": {},
   "source": [
    "## Test tabs"
   ]
  },
  {
   "cell_type": "code",
   "execution_count": 15,
   "id": "9bdb0be9",
   "metadata": {},
   "outputs": [
    {
     "data": {
      "application/vnd.jupyter.widget-view+json": {
       "model_id": "0197f2507f784749b7679f3d880eecc4",
       "version_major": 2,
       "version_minor": 0
      },
      "text/plain": [
       "Tab(children=(Box(children=(Button(button_style='info', description='Update Start Resources', icon='check', la…"
      ]
     },
     "metadata": {},
     "output_type": "display_data"
    },
    {
     "data": {
      "application/vnd.jupyter.widget-view+json": {
       "model_id": "7b9c36b0659844f395fb079c5641a5fb",
       "version_major": 2,
       "version_minor": 0
      },
      "text/plain": [
       "Output()"
      ]
     },
     "metadata": {},
     "output_type": "display_data"
    }
   ],
   "source": [
    "tab = widgets.Tab()\n",
    "tab.children = bucket_children\n",
    "tab.titles = bucket_titles\n",
    "for i in range(len(bucket_titles)):\n",
    "    tab.set_title(i, bucket_titles[i])\n",
    "display(tab)\n",
    "display(bucket_output)"
   ]
  },
  {
   "cell_type": "code",
   "execution_count": 16,
   "id": "fdfd2135",
   "metadata": {},
   "outputs": [
    {
     "data": {
      "application/vnd.jupyter.widget-view+json": {
       "model_id": "f19175469d1442009bd908354853ccda",
       "version_major": 2,
       "version_minor": 0
      },
      "text/plain": [
       "Tab(children=(Box(children=(Button(button_style='info', description='Launch Extraction', icon='check', layout=…"
      ]
     },
     "metadata": {},
     "output_type": "display_data"
    },
    {
     "data": {
      "application/vnd.jupyter.widget-view+json": {
       "model_id": "3cf162211d924cde8884333da7444d3c",
       "version_major": 2,
       "version_minor": 0
      },
      "text/plain": [
       "Output()"
      ]
     },
     "metadata": {},
     "output_type": "display_data"
    }
   ],
   "source": [
    "\n",
    "tab = widgets.Tab()\n",
    "tab.children = task_children\n",
    "tab.titles = task_titles\n",
    "for i in range(len(task_titles)):\n",
    "    tab.set_title(i, task_titles[i])\n",
    "display(tab)\n",
    "display(task_output)"
   ]
  },
  {
   "cell_type": "code",
   "execution_count": 28,
   "id": "86a46f09",
   "metadata": {
    "scrolled": true
   },
   "outputs": [
    {
     "data": {
      "text/html": [
       "<script>\n",
       " $('div.input').show();\n",
       "</script>\n"
      ],
      "text/plain": [
       "<IPython.core.display.HTML object>"
      ]
     },
     "execution_count": 28,
     "metadata": {},
     "output_type": "execute_result"
    }
   ],
   "source": [
    "# first cell used to Show the code (useful for Debug)\n",
    "from IPython.display import HTML\n",
    "HTML('''<script>\n",
    " $('div.input').show();\n",
    "</script>\n",
    "''')"
   ]
  },
  {
   "cell_type": "code",
   "execution_count": 27,
   "id": "f40b8f0a",
   "metadata": {},
   "outputs": [
    {
     "data": {
      "text/html": [
       "<script>\n",
       " $('div.input').hide();\n",
       "</script>\n"
      ],
      "text/plain": [
       "<IPython.core.display.HTML object>"
      ]
     },
     "execution_count": 27,
     "metadata": {},
     "output_type": "execute_result"
    }
   ],
   "source": [
    "# first cell used to Show the code (useful for Debug)\n",
    "from IPython.display import HTML\n",
    "HTML('''<script>\n",
    " $('div.input').hide();\n",
    "</script>\n",
    "''')"
   ]
  },
  {
   "cell_type": "markdown",
   "id": "4ae45541",
   "metadata": {},
   "source": [
    "## Old way"
   ]
  },
  {
   "cell_type": "code",
   "execution_count": 17,
   "id": "6cd11812",
   "metadata": {
    "scrolled": false
   },
   "outputs": [
    {
     "data": {
      "application/vnd.jupyter.widget-view+json": {
       "model_id": "7e6f3b8fe9bc4b2d9039e4aeeb1e3c96",
       "version_major": 2,
       "version_minor": 0
      },
      "text/plain": [
       "Box(children=(Button(button_style='info', description='Update Start Resources', icon='check', layout=Layout(he…"
      ]
     },
     "metadata": {},
     "output_type": "display_data"
    },
    {
     "data": {
      "application/vnd.jupyter.widget-view+json": {
       "model_id": "4f0e350129454d5394dd5f1db4db645d",
       "version_major": 2,
       "version_minor": 0
      },
      "text/plain": [
       "Output()"
      ]
     },
     "metadata": {},
     "output_type": "display_data"
    }
   ],
   "source": [
    "# Button to run the tasks:\n",
    "\n",
    "\n",
    "check_bucket_output = widgets.Output()\n",
    "\n",
    "def clic_update_resources(button):\n",
    "    values = retrieve_all_values()\n",
    "    init_bucket = values[\"init-bucket\"]\n",
    "    value_found = False\n",
    "    with check_bucket_output:\n",
    "        clear_output()\n",
    "        if values[\"init-resources-foldera\"]:\n",
    "            print('resources folder a:\"' + values[\"init-resources-foldera\"] + '\"')\n",
    "            value_found = True\n",
    "            faceswapWrapper.upload_bucket_folder(init_bucket, values[\"init-resources-foldera\"], values)\n",
    "        if values[\"init-resources-folderb\"]:\n",
    "            print('resources folder b:\"' + values[\"init-resources-folderb\"] + '\"')\n",
    "            value_found = True\n",
    "            faceswapWrapper.upload_bucket_folder(init_bucket, values[\"init-resources-folderb\"], values)\n",
    "        if values[\"init-resources-folderc\"]:\n",
    "            print('resources folder c:\"' + values[\"init-resources-folderc\"] + '\"')\n",
    "            value_found = True\n",
    "            faceswapWrapper.upload_bucket_folder(init_bucket, values[\"init-resources-folderc\"], values)\n",
    "        if not value_found:\n",
    "            print(\"No resources to be updated.\")\n",
    "\n",
    "def clic_clean_resources(button):\n",
    "    values = retrieve_all_values()\n",
    "    with check_bucket_output:\n",
    "        clear_output()\n",
    "        print(\"clean resources\")\n",
    "        init_bucket = values[\"init-bucket\"]\n",
    "        faceswapWrapper.retrieve_bucket_files(init_bucket, values)\n",
    "\n",
    "\n",
    "    \n",
    "def create_buckets_buttons():\n",
    "    buttons = []\n",
    "    for one_button_name, one_button_func in [(\"Update Start Resources\", clic_update_resources), (\"Clean Start Resources\", clic_clean_resources)]:\n",
    "        one_button = widgets.Button(description=one_button_name, disabled=False, button_style='info', tooltip=one_button_name, icon='check', layout=button_layout)\n",
    "        one_button.on_click(one_button_func)\n",
    "        buttons.append(one_button)\n",
    "    box_button = Box(buttons, layout=form_item_layout)\n",
    "    display(box_button, layout=button_layout)\n",
    "    display(check_bucket_output)\n",
    "    \n",
    "    \n",
    "create_buckets_buttons()\n"
   ]
  },
  {
   "cell_type": "markdown",
   "id": "3f3e1d96",
   "metadata": {},
   "source": [
    "#### See the data"
   ]
  },
  {
   "cell_type": "code",
   "execution_count": 18,
   "id": "dfebcbcf",
   "metadata": {
    "scrolled": true
   },
   "outputs": [
    {
     "data": {
      "application/vnd.jupyter.widget-view+json": {
       "model_id": "77088ddb76d447999e8e608cd9672b95",
       "version_major": 2,
       "version_minor": 0
      },
      "text/plain": [
       "Box(children=(Button(button_style='info', description='Check Start', icon='check', layout=Layout(height='50px'…"
      ]
     },
     "metadata": {},
     "output_type": "display_data"
    },
    {
     "data": {
      "application/vnd.jupyter.widget-view+json": {
       "model_id": "183a54fdaea44db085ba35c2d3dd10df",
       "version_major": 2,
       "version_minor": 0
      },
      "text/plain": [
       "Output()"
      ]
     },
     "metadata": {},
     "output_type": "display_data"
    }
   ],
   "source": [
    "\n",
    "\n",
    "# check buckets\n",
    "def watch_buckets_buttons():\n",
    "    buttons = []\n",
    "    output = widgets.Output()\n",
    "    resources_buckets = [(\"Check Start\", lambda x: faceswapWrapper.print_bucket_dump(\"init-bucket\", retrieve_all_values(), output)),\n",
    "                         (\"Check Extracted\", lambda x: faceswapWrapper.print_bucket_dump(\"extract-bucket\", retrieve_all_values(), output)),\n",
    "                         (\"Check Trained\", lambda x: faceswapWrapper.print_bucket_dump(\"train-bucket\", retrieve_all_values(), output)),\n",
    "                         (\"Check Prepared\", lambda x: faceswapWrapper.print_bucket_dump(\"prepare-bucket\", retrieve_all_values(), output)),\n",
    "                         (\"Check Converted\", lambda x: faceswapWrapper.print_bucket_dump(\"result-bucket\", retrieve_all_values(), output))]\n",
    "    for one_button_name, one_button_func in resources_buckets:\n",
    "        one_button = widgets.Button(description=one_button_name, disabled=False, button_style='info', tooltip=one_button_name, icon='check', layout=small_button_layout)\n",
    "        one_button.on_click(one_button_func)\n",
    "        buttons.append(one_button)\n",
    "    box_button = Box(buttons, layout=form_item_layout)\n",
    "    display(box_button, layout=small_button_layout)\n",
    "    display(output)\n",
    "    \n",
    "    \n",
    "watch_buckets_buttons()"
   ]
  },
  {
   "cell_type": "markdown",
   "id": "b5195a3b",
   "metadata": {},
   "source": [
    "#### Clean the data"
   ]
  },
  {
   "cell_type": "code",
   "execution_count": 19,
   "id": "93bfa1b8",
   "metadata": {
    "scrolled": true
   },
   "outputs": [
    {
     "data": {
      "application/vnd.jupyter.widget-view+json": {
       "model_id": "b125a90a0683488bb0ae3da5f39ec1a6",
       "version_major": 2,
       "version_minor": 0
      },
      "text/plain": [
       "Box(children=(Button(button_style='info', description='Clean Start', icon='check', layout=Layout(height='50px'…"
      ]
     },
     "metadata": {},
     "output_type": "display_data"
    },
    {
     "data": {
      "application/vnd.jupyter.widget-view+json": {
       "model_id": "9a89e596642f4a5b9b7f0625fc3d508c",
       "version_major": 2,
       "version_minor": 0
      },
      "text/plain": [
       "Output()"
      ]
     },
     "metadata": {},
     "output_type": "display_data"
    }
   ],
   "source": [
    "\n",
    "\n",
    "# check buckets\n",
    "def watch_buckets_buttons():\n",
    "    buttons = []\n",
    "    output = widgets.Output()\n",
    "    resources_buckets = [(\"Clean Start\", lambda x: faceswapWrapper.print_bucket_dump(\"init-bucket\", retrieve_all_values(), output)),\n",
    "                         (\"Clean Extracted\", lambda x: faceswapWrapper.print_bucket_dump(\"extract-bucket\", retrieve_all_values(), output)),\n",
    "                         (\"Clean Trained\", lambda x: faceswapWrapper.print_bucket_dump(\"train-bucket\", retrieve_all_values(), output)),\n",
    "                         (\"Clean Prepared\", lambda x: faceswapWrapper.print_bucket_dump(\"prepare-bucket\", retrieve_all_values(), output)),\n",
    "                         (\"Clean Converted\", lambda x: faceswapWrapper.print_bucket_dump(\"result-bucket\", retrieve_all_values(), output))]\n",
    "    for one_button_name, one_button_func in resources_buckets:\n",
    "        one_button = widgets.Button(description=one_button_name, disabled=False, button_style='info', tooltip=one_button_name, icon='check', layout=small_button_layout)\n",
    "        one_button.on_click(one_button_func)\n",
    "        buttons.append(one_button)\n",
    "    box_button = Box(buttons, layout=form_item_layout)\n",
    "    display(box_button, layout=small_button_layout)\n",
    "    display(output)\n",
    "    \n",
    "    \n",
    "watch_buckets_buttons()"
   ]
  },
  {
   "cell_type": "code",
   "execution_count": null,
   "id": "4e4eed2a",
   "metadata": {},
   "outputs": [],
   "source": [
    "\n"
   ]
  },
  {
   "cell_type": "markdown",
   "id": "27c79d72",
   "metadata": {},
   "source": [
    "### Run the tasks:\n",
    "\n",
    "| Extract | Train | Prepare conversion | Convert |\n",
    "|:--|:--:|:--:|--:|\n",
    "| extract the face images used to train the model from the images and videos |Create and train a model using the extracted images|Extract all the faces of the videos to be convert |convert the video using the trained model and the prepared extracted faces|\n",
    "\n",
    "* Extract\n",
    "> Extract the face images used to train the model from the images and videos\n",
    "\n",
    "* Train\n",
    "> Create and train a model using the extracted images\n",
    "* Prepare conversion\n",
    "> Extract all the faces of the videos to be convert\n",
    "* Convert\n",
    "> Convert the video using the trained model and the prepared extracted faces"
   ]
  },
  {
   "cell_type": "code",
   "execution_count": 20,
   "id": "208f376d",
   "metadata": {},
   "outputs": [
    {
     "data": {
      "application/vnd.jupyter.widget-view+json": {
       "model_id": "bc8443dbf9d54881a13607734a61f6e6",
       "version_major": 2,
       "version_minor": 0
      },
      "text/plain": [
       "Box(children=(Button(button_style='info', description='Launch Extraction', icon='check', layout=Layout(height=…"
      ]
     },
     "metadata": {},
     "output_type": "display_data"
    },
    {
     "data": {
      "application/vnd.jupyter.widget-view+json": {
       "model_id": "0d46e25ac310446eb9d2a6b4703869a3",
       "version_major": 2,
       "version_minor": 0
      },
      "text/plain": [
       "Output()"
      ]
     },
     "metadata": {},
     "output_type": "display_data"
    }
   ],
   "source": [
    "launch_task_output = widgets.Output()\n",
    "\n",
    "def clic_extract(info):\n",
    "    with launch_task_output:\n",
    "        clear_output()\n",
    "        values = retrieve_all_values()\n",
    "        task = faceswapWrapper.extract(values)\n",
    "        if task:\n",
    "            print(\"Task launched!\")\n",
    "            print(\"Status : \" + task.state)\n",
    "            print(\"Uuid: \" + task.uuid)\n",
    "    \n",
    "def clic_train(info):\n",
    "    with launch_task_output:\n",
    "        clear_output()\n",
    "        values = retrieve_all_values()\n",
    "        task = faceswapWrapper.train(values)\n",
    "        if task:\n",
    "            print(\"Task launched!\")\n",
    "            print(\"Status : \" + task.state)\n",
    "            print(\"Uuid: \" + task.uuid)\n",
    "    \n",
    "def clic_prepare(info):\n",
    "    with launch_task_output:\n",
    "        clear_output()\n",
    "        values = retrieve_all_values()\n",
    "        task = faceswapWrapper.prepare(values)\n",
    "        if task:\n",
    "            print(\"Task launched!\")\n",
    "            print(\"Status : \" + task.state)\n",
    "            print(\"Uuid: \" + task.uuid)\n",
    "    \n",
    "def clic_convert(info):\n",
    "    with launch_task_output:\n",
    "        clear_output()\n",
    "        values = retrieve_all_values()\n",
    "        # faceswapWrapper.test_values(values)\n",
    "        task = faceswapWrapper.convert(values)\n",
    "        if task:\n",
    "            print(\"Task launched!\")\n",
    "            print(\"Status : \" + task.state)\n",
    "            print(\"Uuid: \" + task.uuid)\n",
    "\n",
    "    \n",
    "def create_buttons_launch_task(display_buttons=True):\n",
    "    buttons = []\n",
    "    output = widgets.Output()\n",
    "    for one_button_name, one_button_func in [(\"Launch Extraction\", clic_extract), \n",
    "                            (\"Launch Train\",clic_train), \n",
    "                            (\"Launch Prepare conversion\",clic_prepare), \n",
    "                            (\"Launch Convertion\", clic_convert)]:\n",
    "        one_button = widgets.Button(description=one_button_name, disabled=False, button_style='info', tooltip=one_button_name, icon='check', layout=button_layout)\n",
    "        one_button.on_click(one_button_func)\n",
    "        buttons.append(one_button)\n",
    "    box_button = Box(buttons, layout=form_item_layout)\n",
    "    if display_buttons:\n",
    "        display(box_button, layout=button_layout)\n",
    "        display(launch_task_output)\n",
    "    else:\n",
    "        return box_button \n",
    "\n",
    "    \n",
    "create_buttons_launch_task()"
   ]
  },
  {
   "cell_type": "markdown",
   "id": "6fccf157",
   "metadata": {},
   "source": [
    "### Check the created tasks: "
   ]
  },
  {
   "cell_type": "code",
   "execution_count": 21,
   "id": "37883194",
   "metadata": {},
   "outputs": [
    {
     "data": {
      "application/vnd.jupyter.widget-view+json": {
       "model_id": "badd8353b73544fa9444481d6a11e1fd",
       "version_major": 2,
       "version_minor": 0
      },
      "text/plain": [
       "Box(children=(Button(button_style='info', description='Check Extract', icon='check', layout=Layout(height='50p…"
      ]
     },
     "metadata": {},
     "output_type": "display_data"
    },
    {
     "data": {
      "application/vnd.jupyter.widget-view+json": {
       "model_id": "9824be71af1f40e7a27a3a1f89bc94d2",
       "version_major": 2,
       "version_minor": 0
      },
      "text/plain": [
       "Output()"
      ]
     },
     "metadata": {},
     "output_type": "display_data"
    }
   ],
   "source": [
    "# Check tasks by names\n",
    "def create_buttons():\n",
    "    buttons = []\n",
    "    output = widgets.Output()\n",
    "    for one_button_name, one_button_func in [(\"Check Extract\", lambda x : faceswapWrapper.print_task_dump(\"extract-task\", retrieve_all_values(), output)), \n",
    "                            (\"Check Train\", lambda x : faceswapWrapper.print_task_dump(\"train-task\", retrieve_all_values(), output)), \n",
    "                            (\"Check Prepare\", lambda x : faceswapWrapper.print_task_dump(\"prepare-task\", retrieve_all_values(), output)), \n",
    "                            (\"Check Convert\", lambda x : faceswapWrapper.print_task_dump(\"result-task\", retrieve_all_values(), output))]:\n",
    "        one_button = widgets.Button(description=one_button_name, disabled=False, button_style='info', tooltip=one_button_name, icon='check', layout=button_layout)\n",
    "        one_button.on_click(one_button_func)\n",
    "        buttons.append(one_button)\n",
    "    box_button = Box(buttons, layout=form_item_layout)\n",
    "    display(box_button, layout=button_layout)\n",
    "    display(output)\n",
    "\n",
    "    \n",
    "create_buttons()"
   ]
  },
  {
   "cell_type": "markdown",
   "id": "33c93d76",
   "metadata": {},
   "source": [
    "### Restart a created tasks:"
   ]
  },
  {
   "cell_type": "code",
   "execution_count": 22,
   "id": "b0ffeff0",
   "metadata": {
    "scrolled": true
   },
   "outputs": [
    {
     "data": {
      "application/vnd.jupyter.widget-view+json": {
       "model_id": "fe04c21e56284036bf32436e83435a6c",
       "version_major": 2,
       "version_minor": 0
      },
      "text/plain": [
       "Box(children=(Button(button_style='info', description='Restart Extract', icon='check', layout=Layout(height='5…"
      ]
     },
     "metadata": {},
     "output_type": "display_data"
    },
    {
     "data": {
      "application/vnd.jupyter.widget-view+json": {
       "model_id": "cd823c44acb34f5988d18182f2c566e2",
       "version_major": 2,
       "version_minor": 0
      },
      "text/plain": [
       "Output()"
      ]
     },
     "metadata": {},
     "output_type": "display_data"
    }
   ],
   "source": [
    "# Check tasks by names\n",
    "def create_buttons():\n",
    "    buttons = []\n",
    "    output = widgets.Output()\n",
    "    for one_button_name, one_button_func in [(\"Restart Extract\", lambda x : faceswapWrapper.restart_task(\"extract-task\", retrieve_all_values(), output)), \n",
    "                            (\"Restart Train\", lambda x : faceswapWrapper.restart_task(\"train-task\", retrieve_all_values(), output)), \n",
    "                            (\"Restart Prepare\", lambda x : faceswapWrapper.restart_task(\"prepare-task\", retrieve_all_values(), output)), \n",
    "                            (\"Restart Convert\", lambda x : faceswapWrapper.restart_task(\"result-task\", retrieve_all_values(), output))]:\n",
    "        one_button = widgets.Button(description=one_button_name, disabled=False, button_style='info', tooltip=one_button_name, icon='check', layout=button_layout)\n",
    "        one_button.on_click(one_button_func)\n",
    "        buttons.append(one_button)\n",
    "    box_button = Box(buttons, layout=form_item_layout)\n",
    "    display(box_button, layout=button_layout)\n",
    "    display(output)\n",
    "\n",
    "    \n",
    "create_buttons()"
   ]
  },
  {
   "cell_type": "markdown",
   "id": "d41143be",
   "metadata": {},
   "source": [
    "### Clean the created tasks:"
   ]
  },
  {
   "cell_type": "code",
   "execution_count": 23,
   "id": "992ca436",
   "metadata": {},
   "outputs": [
    {
     "data": {
      "application/vnd.jupyter.widget-view+json": {
       "model_id": "a28dc4f348714112b047faf44276c501",
       "version_major": 2,
       "version_minor": 0
      },
      "text/plain": [
       "Box(children=(Button(button_style='info', description='Remove Extract', icon='check', layout=Layout(height='50…"
      ]
     },
     "metadata": {},
     "output_type": "display_data"
    },
    {
     "data": {
      "application/vnd.jupyter.widget-view+json": {
       "model_id": "f901f68f72cc438a8be278bdc37ef8fe",
       "version_major": 2,
       "version_minor": 0
      },
      "text/plain": [
       "Output()"
      ]
     },
     "metadata": {},
     "output_type": "display_data"
    }
   ],
   "source": [
    "# Check tasks by names\n",
    "def create_buttons():\n",
    "    buttons = []\n",
    "    output = widgets.Output()\n",
    "    for one_button_name, one_button_func in [(\"Remove Extract\", lambda x : faceswapWrapper.remove_task(\"extract-task\", retrieve_all_values(), output)), \n",
    "                            (\"Remove Train\", lambda x : faceswapWrapper.remove_task(\"train-task\", retrieve_all_values(), output)), \n",
    "                            (\"Remove Prepare\", lambda x : faceswapWrapper.remove_task(\"prepare-task\", retrieve_all_values(), output)), \n",
    "                            (\"Remove Convert\", lambda x : faceswapWrapper.remove_task(\"result-task\", retrieve_all_values(), output))]:\n",
    "        one_button = widgets.Button(description=one_button_name, disabled=False, button_style='info', tooltip=one_button_name, icon='check', layout=button_layout)\n",
    "        one_button.on_click(one_button_func)\n",
    "        buttons.append(one_button)\n",
    "    box_button = Box(buttons, layout=form_item_layout)\n",
    "    display(box_button, layout=button_layout)\n",
    "    display(output)\n",
    "\n",
    "    \n",
    "create_buttons()"
   ]
  },
  {
   "cell_type": "code",
   "execution_count": null,
   "id": "f2034c50",
   "metadata": {},
   "outputs": [],
   "source": []
  }
 ],
 "metadata": {
  "kernelspec": {
   "display_name": "Python 3 (ipykernel)",
   "language": "python",
   "name": "python3"
  },
  "language_info": {
   "codemirror_mode": {
    "name": "ipython",
    "version": 3
   },
   "file_extension": ".py",
   "mimetype": "text/x-python",
   "name": "python",
   "nbconvert_exporter": "python",
   "pygments_lexer": "ipython3",
   "version": "3.8.10"
  }
 },
 "nbformat": 4,
 "nbformat_minor": 5
}
