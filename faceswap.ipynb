{
 "cells": [
  {
   "cell_type": "code",
   "execution_count": 22,
   "id": "86a46f09",
   "metadata": {},
   "outputs": [
    {
     "data": {
      "text/html": [
       "<script>\n",
       " $('div.input').show();\n",
       "</script>\n"
      ],
      "text/plain": [
       "<IPython.core.display.HTML object>"
      ]
     },
     "execution_count": 22,
     "metadata": {},
     "output_type": "execute_result"
    }
   ],
   "source": [
    "# first cell used to Show the code (useful for Debug)\n",
    "from IPython.display import HTML\n",
    "HTML('''<script>\n",
    " $('div.input').show();\n",
    "</script>\n",
    "''')"
   ]
  },
  {
   "cell_type": "code",
   "execution_count": 23,
   "id": "3781e059-34a3-4864-9e62-41ff7df24b69",
   "metadata": {},
   "outputs": [],
   "source": [
    "# Import the needed librairies \n",
    "from IPython.display import display\n",
    "from faceswaptools import QarotFaceswapWrapper as QarotWrapper\n",
    "# Do not show pip install info\n",
    "!python3 -m pip install qarnot > /dev/null\n",
    "import qarnot \n",
    "import ipywidgets as widgets\n",
    "from ipywidgets import Layout, Button, Box, Label, BoundedIntText, IntSlider, Dropdown, SelectMultiple\n",
    "from tkinter import Tk, filedialog\n",
    "from IPython.display import clear_output, display"
   ]
  },
  {
   "cell_type": "code",
   "execution_count": 24,
   "id": "d0e17501",
   "metadata": {},
   "outputs": [],
   "source": [
    "# Import the qarnot faceswap wrapper\n",
    "\n",
    "wrapper = QarnotWrapper()"
   ]
  },
  {
   "cell_type": "code",
   "execution_count": 25,
   "id": "cc72f579",
   "metadata": {},
   "outputs": [],
   "source": [
    "# Create all the Layout and CSS info\n",
    "form_item_layout = Layout(\n",
    "    display='flex',\n",
    "    flex_flow='row',\n",
    "    justify_content='space-between'\n",
    ")\n",
    "percent50layout = Layout(width='70%', height='30px')\n",
    "\n",
    "\n",
    "button_layout =  Layout(\n",
    "    margin=\"auto\",\n",
    "    width='20%',\n",
    "    height='50px'\n",
    ")\n",
    "check_values_layout = {'border': '1px solid black', \"margin\":\"auto\",\"padding\":\"15px\", \"text-size\":\"20px\", \"font-weight\":\"20px\"}\n",
    "check_values_layout_box = Layout(width=\"100%\")"
   ]
  },
  {
   "cell_type": "code",
   "execution_count": 10,
   "id": "39868324",
   "metadata": {},
   "outputs": [],
   "source": [
    "# create the function widjet helpers\n",
    "def create_item_from_box(box, form_item_layout):\n",
    "    items = {}\n",
    "    for key, label, widget in box:\n",
    "        items[key] = Box([Label(value=label),widget], layout=form_item_layout) \n",
    "        display(items[key]) \n",
    "    return items\n",
    "\n",
    "def create_values_from_out(box, name_widget, form_item_layout):\n",
    "    for key, label, name_suffix in box:\n",
    "        \n",
    "        widg_bucket = widgets.interactive_output(lambda a: print(\"bucket-\" + a + name_suffix), {\"a\":name_widget})\n",
    "        widg_task = widgets.interactive_output(lambda a: print(\"task-\" + a + name_suffix), {\"a\":name_widget})\n",
    "\n",
    "        display(Box([Label(value=label), widg_task, widg_bucket], layout=form_item_layout))\n",
    "\n",
    "def create_values_from_items(items, values):\n",
    "    for key in items:\n",
    "        values[key] = items[key].children[1].value\n",
    "    return values"
   ]
  },
  {
   "cell_type": "markdown",
   "id": "00d8de2f",
   "metadata": {},
   "source": [
    "## Buttons : \n",
    "\n",
    "\n",
    "## Commun \n",
    "### Info:\n",
    "* Token \n",
    "* noms des buckets => forcer le noms des buckets avec un prefix qu'il pourra définir\n",
    "\n",
    "\n",
    "### Upload ressources\n",
    "Un truc a part pour chaque bucket.\n",
    "Avec une option pour savoir ce qu'il y a dans chaque bucket ? \n",
    "\n",
    "\n",
    "### create or retrieve task:\n",
    "2 options\n",
    "\n",
    "#### 1 Run a task :\n",
    "* extract \n",
    "* train\n",
    "* prepare\n",
    "* convert \n",
    "\n",
    "#### 2 Get task Info:\n",
    "Status\n",
    "Temps d'execution \n",
    "..."
   ]
  },
  {
   "cell_type": "code",
   "execution_count": 11,
   "id": "43997185",
   "metadata": {},
   "outputs": [
    {
     "data": {
      "application/vnd.jupyter.widget-view+json": {
       "model_id": "802ee45eac4047ba927ffed69262836c",
       "version_major": 2,
       "version_minor": 0
      },
      "text/plain": [
       "Box(children=(Label(value='Qarnot Token'), Password(layout=Layout(height='30px', width='70%'), placeholder='En…"
      ]
     },
     "metadata": {},
     "output_type": "display_data"
    },
    {
     "data": {
      "application/vnd.jupyter.widget-view+json": {
       "model_id": "e45f0010b9234c4c9997bbdabc0fadc9",
       "version_major": 2,
       "version_minor": 0
      },
      "text/plain": [
       "Box(children=(Label(value='Project name'), Text(value='faceswap', layout=Layout(height='30px', width='70%'), p…"
      ]
     },
     "metadata": {},
     "output_type": "display_data"
    }
   ],
   "source": [
    "# Retrieve data 1 : retrieve the project name and token. \n",
    "name_widget = widgets.Text(placeholder='Type something', disabled=False, value=\"faceswap\", layout=percent50layout)\n",
    "prepare_box = [\n",
    "        (\"pwd\", \"Qarnot Token\", widgets.Password(placeholder='Enter your token', disabled=False, layout=percent50layout)),\n",
    "        (\"name\", \"Project name\", name_widget),\n",
    "]\n",
    "\n",
    "prepare_items = create_item_from_box(prepare_box, form_item_layout)\n",
    "\n",
    "#widgets.HBox([widgets.VBox([a, b, c]), out])\n",
    "val = create_values_from_items(prepare_items, {})\n"
   ]
  },
  {
   "cell_type": "code",
   "execution_count": 12,
   "id": "84372629",
   "metadata": {},
   "outputs": [
    {
     "data": {
      "application/vnd.jupyter.widget-view+json": {
       "model_id": "c8864e8fc61149f19348effec972b502",
       "version_major": 2,
       "version_minor": 0
      },
      "text/plain": [
       "Box(children=(Label(value='init resource bucket name'), Output(), Output()), layout=Layout(display='flex', fle…"
      ]
     },
     "metadata": {},
     "output_type": "display_data"
    },
    {
     "data": {
      "application/vnd.jupyter.widget-view+json": {
       "model_id": "13e59bcff37e4eef9f4cd6f7b4d9a17b",
       "version_major": 2,
       "version_minor": 0
      },
      "text/plain": [
       "Box(children=(Label(value='extract bucket name'), Output(), Output()), layout=Layout(display='flex', flex_flow…"
      ]
     },
     "metadata": {},
     "output_type": "display_data"
    },
    {
     "data": {
      "application/vnd.jupyter.widget-view+json": {
       "model_id": "33d0afca6c87424998fa9e0e83a6f628",
       "version_major": 2,
       "version_minor": 0
      },
      "text/plain": [
       "Box(children=(Label(value='trained-model bucket name'), Output(), Output()), layout=Layout(display='flex', fle…"
      ]
     },
     "metadata": {},
     "output_type": "display_data"
    },
    {
     "data": {
      "application/vnd.jupyter.widget-view+json": {
       "model_id": "4ad5a6b2dbff43a1a1ff4f3df12b18e8",
       "version_major": 2,
       "version_minor": 0
      },
      "text/plain": [
       "Box(children=(Label(value='prepare conversion bucket name'), Output(), Output()), layout=Layout(display='flex'…"
      ]
     },
     "metadata": {},
     "output_type": "display_data"
    },
    {
     "data": {
      "application/vnd.jupyter.widget-view+json": {
       "model_id": "a666e203ae4648aeb99e125bbbe23e4d",
       "version_major": 2,
       "version_minor": 0
      },
      "text/plain": [
       "Box(children=(Label(value='final result name'), Output(), Output()), layout=Layout(display='flex', flex_flow='…"
      ]
     },
     "metadata": {},
     "output_type": "display_data"
    }
   ],
   "source": [
    "# Create the names based on the project name \n",
    "subname_out_box = [\n",
    "    (\"init-bucket\", \"init resource bucket name\", \"-start\"),\n",
    "    (\"extract-bucket\", \"extract bucket name\", \"-extract\"),\n",
    "    (\"train-bucket\", \"trained-model bucket name\",\"-train\"),\n",
    "    (\"prepare-bucket\", \"prepare conversion bucket name\", \"-prepare\"),\n",
    "    (\"result-bucket\", \"final result name\", \"-convert\"),\n",
    "]\n",
    "\n",
    "qarnot_items = create_values_from_out(subname_out_box, name_widget, form_item_layout)"
   ]
  },
  {
   "cell_type": "code",
   "execution_count": 13,
   "id": "4d60c753",
   "metadata": {},
   "outputs": [
    {
     "data": {
      "application/vnd.jupyter.widget-view+json": {
       "model_id": "1af8938e0d98433a83cf8234b7c76e1d",
       "version_major": 2,
       "version_minor": 0
      },
      "text/plain": [
       "Box(children=(Label(value='Qarnot Token'), Password(layout=Layout(height='30px', width='70%'), placeholder='En…"
      ]
     },
     "metadata": {},
     "output_type": "display_data"
    },
    {
     "data": {
      "application/vnd.jupyter.widget-view+json": {
       "model_id": "34f661fca9a94243abd3a658400b3f09",
       "version_major": 2,
       "version_minor": 0
      },
      "text/plain": [
       "Box(children=(Label(value='Task name'), Text(value='faceswap', layout=Layout(height='30px', width='70%'), plac…"
      ]
     },
     "metadata": {},
     "output_type": "display_data"
    },
    {
     "data": {
      "application/vnd.jupyter.widget-view+json": {
       "model_id": "d04ac0e823214881b23f2ba10243c012",
       "version_major": 2,
       "version_minor": 0
      },
      "text/plain": [
       "Box(children=(Label(value='Initial bucket data name'), Text(value='faceswap-ressources-init', layout=Layout(he…"
      ]
     },
     "metadata": {},
     "output_type": "display_data"
    },
    {
     "data": {
      "application/vnd.jupyter.widget-view+json": {
       "model_id": "2b65b8c2d39e4e03b26bb069ed16f735",
       "version_major": 2,
       "version_minor": 0
      },
      "text/plain": [
       "Box(children=(Label(value='Bucket name get the Extrcted faces'), Text(value='faceswap-ressources-extracted', l…"
      ]
     },
     "metadata": {},
     "output_type": "display_data"
    },
    {
     "data": {
      "application/vnd.jupyter.widget-view+json": {
       "model_id": "0ef2c4f4d4764d9ebd0acc0add93d3cc",
       "version_major": 2,
       "version_minor": 0
      },
      "text/plain": [
       "Box(children=(Label(value='Bucket name get the Train model'), Text(value='faceswap-ressources-trained', layout…"
      ]
     },
     "metadata": {},
     "output_type": "display_data"
    },
    {
     "data": {
      "application/vnd.jupyter.widget-view+json": {
       "model_id": "8e083e5fadce4759baac292fe6029d09",
       "version_major": 2,
       "version_minor": 0
      },
      "text/plain": [
       "Box(children=(Label(value='Bucket name to get the prepared the video '), Text(value='faceswap-ressources-video…"
      ]
     },
     "metadata": {},
     "output_type": "display_data"
    },
    {
     "data": {
      "application/vnd.jupyter.widget-view+json": {
       "model_id": "4a5b761b8c7541d1925ef4703fd5aed3",
       "version_major": 2,
       "version_minor": 0
      },
      "text/plain": [
       "Box(children=(Label(value='Bucket final result name'), Text(value='faceswap-result', layout=Layout(height='30p…"
      ]
     },
     "metadata": {},
     "output_type": "display_data"
    }
   ],
   "source": [
    "prepare_box = [\n",
    "    (\"pwd\", \"Qarnot Token\", widgets.Password(placeholder='Enter your token', disabled=False, layout=percent50layout)),\n",
    "    (\"name\", \"Task name\", widgets.Text(placeholder='Type something', disabled=False, value=\"faceswap\", layout=percent50layout)),\n",
    "    (\"resource-init\", \"Initial bucket data name\", widgets.Text(placeholder='Type something', disabled=False, value=\"faceswap-ressources-init\", layout=percent50layout)),\n",
    "    (\"ressource-extract\", \"Bucket name get the Extrcted faces\", widgets.Text(placeholder='Type something', disabled=False, value=\"faceswap-ressources-extracted\", layout=percent50layout)),\n",
    "    (\"ressource-train\", \"Bucket name get the Train model\", widgets.Text(placeholder='Type something', disabled=False, value=\"faceswap-ressources-trained\", layout=percent50layout)),\n",
    "    (\"ressource-prepare-video\", \"Bucket name to get the prepared the video \", widgets.Text(placeholder='Type something', disabled=False, value=\"faceswap-ressources-video-preparation\", layout=percent50layout)),\n",
    "    (\"result\", \"Bucket final result name\", widgets.Text(placeholder='Type something', disabled=False, value=\"faceswap-result\", layout=percent50layout)),\n",
    "    ]\n",
    "\n",
    "qarnot_items = create_item_from_box(prepare_box, form_item_layout)\n",
    "\n"
   ]
  },
  {
   "cell_type": "code",
   "execution_count": 14,
   "id": "0139009d",
   "metadata": {},
   "outputs": [
    {
     "data": {
      "application/vnd.jupyter.widget-view+json": {
       "model_id": "5c1f5b4148f448659aa21bc1f8ff0d61",
       "version_major": 2,
       "version_minor": 0
      },
      "text/plain": [
       "Box(children=(Label(value='GPU '), Select(index=1, layout=Layout(width='70%'), options=('No', 'A6000'), value=…"
      ]
     },
     "metadata": {},
     "output_type": "display_data"
    }
   ],
   "source": [
    "# ask for the profile information\n",
    "prepare_task_box = [\n",
    "    (\"material\", \"GPU \", widgets.Select(options=['No', 'A6000'], value='A6000', layout=Layout(width='70%'),disabled=False)),\n",
    "]\n",
    "\n",
    "task_items = create_item_from_box(prepare_task_box, form_item_layout)\n"
   ]
  },
  {
   "cell_type": "code",
   "execution_count": 15,
   "id": "5af003ca",
   "metadata": {},
   "outputs": [
    {
     "data": {
      "application/vnd.jupyter.widget-view+json": {
       "model_id": "0f10fc0c1ed145a09a0496d71ce56b97",
       "version_major": 2,
       "version_minor": 0
      },
      "text/plain": [
       "Box(children=(Label(value='Train images/video folder A '), Text(value='', layout=Layout(height='30px', width='…"
      ]
     },
     "metadata": {},
     "output_type": "display_data"
    },
    {
     "data": {
      "application/vnd.jupyter.widget-view+json": {
       "model_id": "9a5a7791c036421ab5e6049264346600",
       "version_major": 2,
       "version_minor": 0
      },
      "text/plain": [
       "Box(children=(Label(value='Train images/videos folder B '), Text(value='', layout=Layout(height='30px', width=…"
      ]
     },
     "metadata": {},
     "output_type": "display_data"
    },
    {
     "data": {
      "application/vnd.jupyter.widget-view+json": {
       "model_id": "4297f33cc50947bd962df70f8510f114",
       "version_major": 2,
       "version_minor": 0
      },
      "text/plain": [
       "Box(children=(Label(value='Videos to be convert folder (Video of face A) '), Text(value='', layout=Layout(heig…"
      ]
     },
     "metadata": {},
     "output_type": "display_data"
    }
   ],
   "source": [
    "# Get the resources \n",
    "prepare_resource_box = [\n",
    "    (\"init-resources-folder\", \"Train images/video folder A \", widgets.Text(placeholder='Type your path', disabled=False, layout=percent50layout)),\n",
    "    (\"init-resources-folder\", \"Train images/videos folder B \", widgets.Text(placeholder='Type your path', disabled=False, layout=percent50layout)),\n",
    "    (\"init-resources-folder\", \"Videos to be convert folder (Video of face A) \", widgets.Text(placeholder='Type your path', disabled=False, layout=percent50layout)),\n",
    "]\n",
    "\n",
    "resources_items = create_item_from_box(prepare_resource_box, form_item_layout)"
   ]
  },
  {
   "cell_type": "code",
   "execution_count": null,
   "id": "f901dcb3",
   "metadata": {},
   "outputs": [],
   "source": [
    "# Button to run the tasks:\n",
    "\n",
    "\n"
   ]
  },
  {
   "cell_type": "code",
   "execution_count": 16,
   "id": "0bacdf0f",
   "metadata": {},
   "outputs": [
    {
     "data": {
      "application/vnd.jupyter.widget-view+json": {
       "model_id": "4de3951f132b4e8e92b08624e5d86f19",
       "version_major": 2,
       "version_minor": 0
      },
      "text/plain": [
       "Tab(children=(Text(value='', description='Task Uuid'), Text(value='', description='Task Name')), _titles={'0':…"
      ]
     },
     "metadata": {},
     "output_type": "display_data"
    }
   ],
   "source": [
    "tab_contents = ['Task Uuid', 'Task Name']\n",
    "tab_titles = ['Retrieve a task.', 'Create a task.']\n",
    "\n",
    "prepare_task_box = [\n",
    "    (\"name\", \"Task name\", widgets.Text(placeholder='Type something', disabled=False, value=\"faceswap\", layout=percent50layout)),\n",
    "    (\"material\", \"GPU \", widgets.Select(options=['No', 'A6000'], value='A6000', layout=Layout(width='70%'),disabled=False)),\n",
    "]\n",
    "children = [widgets.Text(description=name) for name in tab_contents]\n",
    "tab = widgets.Tab()\n",
    "tab.children = children\n",
    "i = 0\n",
    "for name in tab_titles:\n",
    "    tab.set_title(i, name)\n",
    "    i+=1\n",
    "tab\n"
   ]
  },
  {
   "cell_type": "markdown",
   "id": "9eb417c3",
   "metadata": {},
   "source": [
    "Faire un bouton Extract  \n",
    "Faire un bouton Train  \n",
    "Faire un bouton Prépare  \n",
    "Faire un bouton Convert  "
   ]
  },
  {
   "cell_type": "code",
   "execution_count": 27,
   "id": "9b2ec8bb",
   "metadata": {},
   "outputs": [
    {
     "data": {
      "application/vnd.jupyter.widget-view+json": {
       "model_id": "e9036218fa0e46debd8d47b5860dff1f",
       "version_major": 2,
       "version_minor": 0
      },
      "text/plain": [
       "Box(children=(Button(button_style='info', description='Extract', icon='check', layout=Layout(height='50px', ma…"
      ]
     },
     "metadata": {},
     "output_type": "display_data"
    },
    {
     "data": {
      "application/vnd.jupyter.widget-view+json": {
       "model_id": "245559e0c86841dda98a50b285af874b",
       "version_major": 2,
       "version_minor": 0
      },
      "text/plain": [
       "Output()"
      ]
     },
     "metadata": {},
     "output_type": "display_data"
    }
   ],
   "source": [
    "button_layout =  Layout(\n",
    "    margin=\"auto\",\n",
    "    width='20%',\n",
    "    height='50px'\n",
    ")\n",
    "check_values_layout = {'border': '1px solid black', \"margin\":\"auto\",\"padding\":\"15px\", \"text-size\":\"20px\", \"font-weight\":\"20px\"}\n",
    "check_values_layout_box = Layout(width=\"100%\")\n",
    "\n",
    "button_extract = widgets.Button(description=\"Extract\", disabled=False, button_style='info', tooltip='Click me', icon='check', layout=button_layout)\n",
    "output_extract = widgets.Output()\n",
    "button_train = widgets.Button(description=\"Train\", disabled=False, button_style='info', tooltip='Click me', icon='check', layout=button_layout)\n",
    "output_train = widgets.Output()\n",
    "button_prepare = widgets.Button(description=\"Prepare\", disabled=False, button_style='info', tooltip='Click me', icon='check', layout=button_layout)\n",
    "output_prepare = widgets.Output()\n",
    "button_convert = widgets.Button(description=\"Convert\", disabled=False, button_style='info', tooltip='Click me', icon='check', layout=button_layout)\n",
    "output_convert = widgets.Output()\n",
    "\n",
    "box_button = Box([button_extract, button_train, button_prepare, button_convert], layout=form_item_layout) \n",
    "display(box_button, output_extract, layout=button_layout)\n",
    "launch_button.on_click(launch)"
   ]
  },
  {
   "cell_type": "code",
   "execution_count": 28,
   "id": "3b7419af",
   "metadata": {},
   "outputs": [
    {
     "data": {
      "application/vnd.jupyter.widget-view+json": {
       "model_id": "604b0d0969ee47e7b0e84bcc2855e8ac",
       "version_major": 2,
       "version_minor": 0
      },
      "text/plain": [
       "Box(children=(Button(button_style='info', description='Extract', icon='check', layout=Layout(height='50px', ma…"
      ]
     },
     "metadata": {},
     "output_type": "display_data"
    },
    {
     "data": {
      "application/vnd.jupyter.widget-view+json": {
       "model_id": "245559e0c86841dda98a50b285af874b",
       "version_major": 2,
       "version_minor": 0
      },
      "text/plain": [
       "Output()"
      ]
     },
     "metadata": {},
     "output_type": "display_data"
    }
   ],
   "source": [
    "\n",
    "def create_buttons():\n",
    "    outputs = []\n",
    "    buttons = []\n",
    "    for one_button_name in [\"Extract\", \"Train\", \"Prepare\", \"Convert\"]:        \n",
    "        buttons.append(widgets.Button(description=one_button_name, disabled=False, button_style='info', tooltip=one_button_name, icon='check', layout=button_layout))\n",
    "        outputs.append(widgets.Output())\n",
    "    box_button = Box(buttons, layout=form_item_layout)\n",
    "    display(box_button, output_extract, layout=button_layout)\n",
    "    \n",
    "    launch_button.on_click(launch)\n",
    "    \n",
    "create_buttons()"
   ]
  },
  {
   "cell_type": "code",
   "execution_count": null,
   "id": "150ddce8",
   "metadata": {},
   "outputs": [],
   "source": []
  }
 ],
 "metadata": {
  "kernelspec": {
   "display_name": "Python 3 (ipykernel)",
   "language": "python",
   "name": "python3"
  },
  "language_info": {
   "codemirror_mode": {
    "name": "ipython",
    "version": 3
   },
   "file_extension": ".py",
   "mimetype": "text/x-python",
   "name": "python",
   "nbconvert_exporter": "python",
   "pygments_lexer": "ipython3",
   "version": "3.8.10"
  }
 },
 "nbformat": 4,
 "nbformat_minor": 5
}
