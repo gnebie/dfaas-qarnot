{
 "cells": [
  {
   "cell_type": "code",
   "execution_count": 15,
   "id": "86a46f09",
   "metadata": {},
   "outputs": [
    {
     "data": {
      "text/html": [
       "<script>\n",
       " $('div.input').show();\n",
       "</script>\n"
      ],
      "text/plain": [
       "<IPython.core.display.HTML object>"
      ]
     },
     "execution_count": 15,
     "metadata": {},
     "output_type": "execute_result"
    }
   ],
   "source": [
    "# first cell used to Show the code (useful for Debug)\n",
    "from IPython.display import HTML\n",
    "HTML('''<script>\n",
    " $('div.input').show();\n",
    "</script>\n",
    "''')"
   ]
  },
  {
   "cell_type": "code",
   "execution_count": 16,
   "id": "3781e059-34a3-4864-9e62-41ff7df24b69",
   "metadata": {},
   "outputs": [],
   "source": [
    "# Import the needed librairies \n",
    "from IPython.display import display\n",
    "from faceswaptools import QarnotFaceswapWrapper as QarnotWrapper\n",
    "# Do not show pip install info\n",
    "!python3 -m pip install qarnot > /dev/null\n",
    "import qarnot \n",
    "import ipywidgets as widgets\n",
    "from ipywidgets import Layout, Button, Box, Label, BoundedIntText, IntSlider, Dropdown, SelectMultiple\n",
    "from tkinter import Tk, filedialog\n",
    "from IPython.display import clear_output, display"
   ]
  },
  {
   "cell_type": "code",
   "execution_count": 17,
   "id": "cecb907e",
   "metadata": {},
   "outputs": [],
   "source": [
    "# Import the qarnot faceswap wrapper\n",
    "\n",
    "faceswapWrapper = QarnotWrapper()"
   ]
  },
  {
   "cell_type": "code",
   "execution_count": 18,
   "id": "cc72f579",
   "metadata": {},
   "outputs": [],
   "source": [
    "# Create all the Layout and CSS info\n",
    "form_item_layout = Layout(\n",
    "    display='flex',\n",
    "    flex_flow='row',\n",
    "    justify_content='space-between'\n",
    ")\n",
    "percent50layout = Layout(width='70%', height='30px')\n",
    "\n",
    "\n",
    "button_layout =  Layout(\n",
    "    margin=\"auto\",\n",
    "    width='20%',\n",
    "    height='50px'\n",
    ")\n",
    "check_values_layout = {'border': '1px solid black', \"margin\":\"auto\",\"padding\":\"15px\", \"text-size\":\"20px\", \"font-weight\":\"20px\"}\n",
    "check_values_layout_box = Layout(width=\"100%\")"
   ]
  },
  {
   "cell_type": "code",
   "execution_count": 19,
   "id": "39868324",
   "metadata": {},
   "outputs": [],
   "source": [
    "# create the function widjet helpers\n",
    "def create_item_from_box(box, form_item_layout):\n",
    "    items = {}\n",
    "    for key, label, widget in box:\n",
    "        items[key] = Box([Label(value=label),widget], layout=form_item_layout) \n",
    "        display(items[key]) \n",
    "    return items\n",
    "\n",
    "def create_values_from_out(box, name_widget, form_item_layout):\n",
    "    for key, label, name_suffix in box:\n",
    "        \n",
    "        widg_bucket = widgets.interactive_output(lambda a: print(\"bucket-\" + a + name_suffix), {\"a\":name_widget})\n",
    "        widg_task = widgets.interactive_output(lambda a: print(\"task-\" + a + name_suffix), {\"a\":name_widget})\n",
    "\n",
    "        display(Box([Label(value=label), widg_task, widg_bucket], layout=form_item_layout))\n",
    "\n",
    "def create_values_from_items(items, values):\n",
    "    for key in items:\n",
    "        values[key] = items[key].children[1].value\n",
    "    return values"
   ]
  },
  {
   "cell_type": "markdown",
   "id": "00d8de2f",
   "metadata": {},
   "source": [
    "## Buttons : \n",
    "\n",
    "\n",
    "## Commun \n",
    "### Info:\n",
    "* Token \n",
    "* noms des buckets => forcer le noms des buckets avec un prefix qu'il pourra définir\n",
    "\n",
    "\n",
    "### Upload ressources\n",
    "Un truc a part pour chaque bucket.\n",
    "Avec une option pour savoir ce qu'il y a dans chaque bucket ? \n",
    "\n",
    "\n",
    "### create or retrieve task:\n",
    "2 options\n",
    "\n",
    "#### 1 Run a task :\n",
    "* extract \n",
    "* train\n",
    "* prepare\n",
    "* convert \n",
    "\n",
    "#### 2 Get task Info:\n",
    "Status\n",
    "Temps d'execution \n",
    "..."
   ]
  },
  {
   "cell_type": "code",
   "execution_count": 20,
   "id": "43997185",
   "metadata": {},
   "outputs": [
    {
     "data": {
      "application/vnd.jupyter.widget-view+json": {
       "model_id": "b9224b94b5aa49d0bf3955e6a5100aa2",
       "version_major": 2,
       "version_minor": 0
      },
      "text/plain": [
       "Box(children=(Label(value='Qarnot Token'), Password(layout=Layout(height='30px', width='70%'), placeholder='En…"
      ]
     },
     "metadata": {},
     "output_type": "display_data"
    },
    {
     "data": {
      "application/vnd.jupyter.widget-view+json": {
       "model_id": "e8cc4cb2af5f40aa9ec900201265dce8",
       "version_major": 2,
       "version_minor": 0
      },
      "text/plain": [
       "Box(children=(Label(value='Project name'), Text(value='faceswap', layout=Layout(height='30px', width='70%'), p…"
      ]
     },
     "metadata": {},
     "output_type": "display_data"
    }
   ],
   "source": [
    "# Retrieve data 1 : retrieve the project name and token. \n",
    "name_widget = widgets.Text(placeholder='Type something', disabled=False, value=\"faceswap\", layout=percent50layout)\n",
    "prepare_box = [\n",
    "        (\"pwd\", \"Qarnot Token\", widgets.Password(placeholder='Enter your token', disabled=False, layout=percent50layout)),\n",
    "        (\"name\", \"Project name\", name_widget),\n",
    "]\n",
    "\n",
    "prepare_items = create_item_from_box(prepare_box, form_item_layout)\n",
    "\n",
    "#widgets.HBox([widgets.VBox([a, b, c]), out])\n",
    "val = create_values_from_items(prepare_items, {})\n"
   ]
  },
  {
   "cell_type": "code",
   "execution_count": 21,
   "id": "84372629",
   "metadata": {},
   "outputs": [
    {
     "data": {
      "application/vnd.jupyter.widget-view+json": {
       "model_id": "ebca161e3d9c4ddba8f97d22898f809d",
       "version_major": 2,
       "version_minor": 0
      },
      "text/plain": [
       "Box(children=(Label(value='init resource bucket name'), Output(), Output()), layout=Layout(display='flex', fle…"
      ]
     },
     "metadata": {},
     "output_type": "display_data"
    },
    {
     "data": {
      "application/vnd.jupyter.widget-view+json": {
       "model_id": "bc6e96a42c8e48b68973d5a2bbc0f7a4",
       "version_major": 2,
       "version_minor": 0
      },
      "text/plain": [
       "Box(children=(Label(value='extract bucket name'), Output(), Output()), layout=Layout(display='flex', flex_flow…"
      ]
     },
     "metadata": {},
     "output_type": "display_data"
    },
    {
     "data": {
      "application/vnd.jupyter.widget-view+json": {
       "model_id": "ac81671fbc1442808099dbb1845b68f8",
       "version_major": 2,
       "version_minor": 0
      },
      "text/plain": [
       "Box(children=(Label(value='trained-model bucket name'), Output(), Output()), layout=Layout(display='flex', fle…"
      ]
     },
     "metadata": {},
     "output_type": "display_data"
    },
    {
     "data": {
      "application/vnd.jupyter.widget-view+json": {
       "model_id": "1652a76e50da45dfae13dba3367210cc",
       "version_major": 2,
       "version_minor": 0
      },
      "text/plain": [
       "Box(children=(Label(value='prepare conversion bucket name'), Output(), Output()), layout=Layout(display='flex'…"
      ]
     },
     "metadata": {},
     "output_type": "display_data"
    },
    {
     "data": {
      "application/vnd.jupyter.widget-view+json": {
       "model_id": "894de9632889456080edb16a44a271e0",
       "version_major": 2,
       "version_minor": 0
      },
      "text/plain": [
       "Box(children=(Label(value='final result name'), Output(), Output()), layout=Layout(display='flex', flex_flow='…"
      ]
     },
     "metadata": {},
     "output_type": "display_data"
    }
   ],
   "source": [
    "# Create the names based on the project name \n",
    "subname_out_box = [\n",
    "    (\"init-\", \"init resource bucket name\", \"-start\"),\n",
    "    (\"extract-\", \"extract bucket name\", \"-extract\"),\n",
    "    (\"train-\", \"trained-model bucket name\",\"-train\"),\n",
    "    (\"prepare-\", \"prepare conversion bucket name\", \"-prepare\"),\n",
    "    (\"result-\", \"final result name\", \"-convert\"),\n",
    "]\n",
    "\n",
    "qarnot_items = create_values_from_out(subname_out_box, name_widget, form_item_layout)"
   ]
  },
  {
   "cell_type": "code",
   "execution_count": 22,
   "id": "4d60c753",
   "metadata": {},
   "outputs": [
    {
     "data": {
      "application/vnd.jupyter.widget-view+json": {
       "model_id": "b1fa8adc5d3a4093948a5faae2fa05e5",
       "version_major": 2,
       "version_minor": 0
      },
      "text/plain": [
       "Box(children=(Label(value='Qarnot Token'), Password(layout=Layout(height='30px', width='70%'), placeholder='En…"
      ]
     },
     "metadata": {},
     "output_type": "display_data"
    },
    {
     "data": {
      "application/vnd.jupyter.widget-view+json": {
       "model_id": "2640389df466412ca0318d121b2f419e",
       "version_major": 2,
       "version_minor": 0
      },
      "text/plain": [
       "Box(children=(Label(value='Task name'), Text(value='faceswap', layout=Layout(height='30px', width='70%'), plac…"
      ]
     },
     "metadata": {},
     "output_type": "display_data"
    },
    {
     "data": {
      "application/vnd.jupyter.widget-view+json": {
       "model_id": "797c0a37e9f247868755147c8cb02103",
       "version_major": 2,
       "version_minor": 0
      },
      "text/plain": [
       "Box(children=(Label(value='Initial bucket data name'), Text(value='faceswap-ressources-init', layout=Layout(he…"
      ]
     },
     "metadata": {},
     "output_type": "display_data"
    },
    {
     "data": {
      "application/vnd.jupyter.widget-view+json": {
       "model_id": "d4177715516b4b8ca5dfbaed8a24a5e9",
       "version_major": 2,
       "version_minor": 0
      },
      "text/plain": [
       "Box(children=(Label(value='Bucket name get the Extrcted faces'), Text(value='faceswap-ressources-extracted', l…"
      ]
     },
     "metadata": {},
     "output_type": "display_data"
    },
    {
     "data": {
      "application/vnd.jupyter.widget-view+json": {
       "model_id": "b0062fd0682e48cea6af3bdde797ead2",
       "version_major": 2,
       "version_minor": 0
      },
      "text/plain": [
       "Box(children=(Label(value='Bucket name get the Train model'), Text(value='faceswap-ressources-trained', layout…"
      ]
     },
     "metadata": {},
     "output_type": "display_data"
    },
    {
     "data": {
      "application/vnd.jupyter.widget-view+json": {
       "model_id": "1c4ab5131c9e41a0afb3b5b2e17a7e4a",
       "version_major": 2,
       "version_minor": 0
      },
      "text/plain": [
       "Box(children=(Label(value='Bucket name to get the prepared the video '), Text(value='faceswap-ressources-video…"
      ]
     },
     "metadata": {},
     "output_type": "display_data"
    },
    {
     "data": {
      "application/vnd.jupyter.widget-view+json": {
       "model_id": "1ff9aa2fd9af4965be722dd50fc66844",
       "version_major": 2,
       "version_minor": 0
      },
      "text/plain": [
       "Box(children=(Label(value='Bucket final result name'), Text(value='faceswap-result', layout=Layout(height='30p…"
      ]
     },
     "metadata": {},
     "output_type": "display_data"
    }
   ],
   "source": [
    "prepare_box = [\n",
    "    (\"pwd\", \"Qarnot Token\", widgets.Password(placeholder='Enter your token', disabled=False, layout=percent50layout)),\n",
    "    (\"name\", \"Task name\", widgets.Text(placeholder='Type something', disabled=False, value=\"faceswap\", layout=percent50layout)),\n",
    "    (\"resource-init\", \"Initial bucket data name\", widgets.Text(placeholder='Type something', disabled=False, value=\"faceswap-ressources-init\", layout=percent50layout)),\n",
    "    (\"ressource-extract\", \"Bucket name get the Extrcted faces\", widgets.Text(placeholder='Type something', disabled=False, value=\"faceswap-ressources-extracted\", layout=percent50layout)),\n",
    "    (\"ressource-train\", \"Bucket name get the Train model\", widgets.Text(placeholder='Type something', disabled=False, value=\"faceswap-ressources-trained\", layout=percent50layout)),\n",
    "    (\"ressource-prepare-video\", \"Bucket name to get the prepared the video \", widgets.Text(placeholder='Type something', disabled=False, value=\"faceswap-ressources-video-preparation\", layout=percent50layout)),\n",
    "    (\"result\", \"Bucket final result name\", widgets.Text(placeholder='Type something', disabled=False, value=\"faceswap-result\", layout=percent50layout)),\n",
    "    ]\n",
    "\n",
    "qarnot_items = create_item_from_box(prepare_box, form_item_layout)\n",
    "\n"
   ]
  },
  {
   "cell_type": "code",
   "execution_count": 23,
   "id": "0139009d",
   "metadata": {},
   "outputs": [
    {
     "data": {
      "application/vnd.jupyter.widget-view+json": {
       "model_id": "3cea804fe87e4f5ebc0d34903bd2c1c5",
       "version_major": 2,
       "version_minor": 0
      },
      "text/plain": [
       "Box(children=(Label(value='GPU '), Select(index=1, layout=Layout(width='70%'), options=('No', 'A6000'), value=…"
      ]
     },
     "metadata": {},
     "output_type": "display_data"
    }
   ],
   "source": [
    "# ask for the profile information\n",
    "prepare_task_box = [\n",
    "    (\"material\", \"GPU \", widgets.Select(options=['No', 'A6000'], value='A6000', layout=Layout(width='70%'),disabled=False)),\n",
    "]\n",
    "\n",
    "task_items = create_item_from_box(prepare_task_box, form_item_layout)\n"
   ]
  },
  {
   "cell_type": "code",
   "execution_count": 24,
   "id": "5af003ca",
   "metadata": {},
   "outputs": [
    {
     "data": {
      "application/vnd.jupyter.widget-view+json": {
       "model_id": "2906ce0798e64feab14f444e2d832151",
       "version_major": 2,
       "version_minor": 0
      },
      "text/plain": [
       "Box(children=(Label(value='Train images/video folder A '), Text(value='', layout=Layout(height='30px', width='…"
      ]
     },
     "metadata": {},
     "output_type": "display_data"
    },
    {
     "data": {
      "application/vnd.jupyter.widget-view+json": {
       "model_id": "263a433b87474ecc8b99dee79157c928",
       "version_major": 2,
       "version_minor": 0
      },
      "text/plain": [
       "Box(children=(Label(value='Train images/videos folder B '), Text(value='', layout=Layout(height='30px', width=…"
      ]
     },
     "metadata": {},
     "output_type": "display_data"
    },
    {
     "data": {
      "application/vnd.jupyter.widget-view+json": {
       "model_id": "5b5892aeeddb4c808e44c73ab4058147",
       "version_major": 2,
       "version_minor": 0
      },
      "text/plain": [
       "Box(children=(Label(value='Videos to be convert folder (Video of face A) '), Text(value='', layout=Layout(heig…"
      ]
     },
     "metadata": {},
     "output_type": "display_data"
    }
   ],
   "source": [
    "# Get the resources \n",
    "prepare_resource_box = [\n",
    "    (\"init-resources-folder\", \"Train images/video folder A \", widgets.Text(placeholder='Type your path', disabled=False, layout=percent50layout)),\n",
    "    (\"init-resources-folder\", \"Train images/videos folder B \", widgets.Text(placeholder='Type your path', disabled=False, layout=percent50layout)),\n",
    "    (\"init-resources-folder\", \"Videos to be convert folder (Video of face A) \", widgets.Text(placeholder='Type your path', disabled=False, layout=percent50layout)),\n",
    "]\n",
    "\n",
    "resources_items = create_item_from_box(prepare_resource_box, form_item_layout)"
   ]
  },
  {
   "cell_type": "code",
   "execution_count": 25,
   "id": "6cd11812",
   "metadata": {},
   "outputs": [],
   "source": [
    "# Button to run the tasks:\n",
    "\n",
    "\n"
   ]
  },
  {
   "cell_type": "code",
   "execution_count": 26,
   "id": "0bacdf0f",
   "metadata": {},
   "outputs": [
    {
     "data": {
      "application/vnd.jupyter.widget-view+json": {
       "model_id": "72cafce7279f49a1a3d9208e0dff890d",
       "version_major": 2,
       "version_minor": 0
      },
      "text/plain": [
       "Tab(children=(Text(value='', description='Task Uuid'), Text(value='', description='Task Name')), _titles={'0':…"
      ]
     },
     "metadata": {},
     "output_type": "display_data"
    }
   ],
   "source": [
    "tab_contents = ['Task Uuid', 'Task Name']\n",
    "tab_titles = ['Retrieve a task.', 'Create a task.']\n",
    "\n",
    "prepare_task_box = [\n",
    "    (\"name\", \"Task name\", widgets.Text(placeholder='Type something', disabled=False, value=\"faceswap\", layout=percent50layout)),\n",
    "    (\"material\", \"GPU \", widgets.Select(options=['No', 'A6000'], value='A6000', layout=Layout(width='70%'),disabled=False)),\n",
    "]\n",
    "children = [widgets.Text(description=name) for name in tab_contents]\n",
    "tab = widgets.Tab()\n",
    "tab.children = children\n",
    "i = 0\n",
    "for name in tab_titles:\n",
    "    tab.set_title(i, name)\n",
    "    i+=1\n",
    "tab\n"
   ]
  },
  {
   "cell_type": "markdown",
   "id": "9eb417c3",
   "metadata": {},
   "source": [
    "Faire un bouton Extract  \n",
    "Faire un bouton Train  \n",
    "Faire un bouton Prépare  \n",
    "Faire un bouton Convert  "
   ]
  },
  {
   "cell_type": "code",
   "execution_count": 27,
   "id": "208f376d",
   "metadata": {},
   "outputs": [
    {
     "data": {
      "application/vnd.jupyter.widget-view+json": {
       "model_id": "80fa29e1d8924ebba1a6e3c498afce89",
       "version_major": 2,
       "version_minor": 0
      },
      "text/plain": [
       "Box(children=(Button(button_style='info', description='Extract', icon='check', layout=Layout(height='50px', ma…"
      ]
     },
     "metadata": {},
     "output_type": "display_data"
    },
    {
     "name": "stdout",
     "output_type": "stream",
     "text": [
      "{'pwd': '', 'name': 'faceswaptest', 'material': 'A6000', 'init-resources-folder': '', 'init-bucket': 'bucket-faceswaptest-start', 'init-task': 'task-faceswaptest-start', 'extract-bucket': 'bucket-faceswaptest-extract', 'extract-task': 'task-faceswaptest-extract', 'train-bucket': 'bucket-faceswaptest-train', 'train-task': 'task-faceswaptest-train', 'prepare-bucket': 'bucket-faceswaptest-prepare', 'prepare-task': 'task-faceswaptest-prepare', 'result-bucket': 'bucket-faceswaptest-convert', 'result-task': 'task-faceswaptest-convert'}\n",
      "hello\n",
      "Button(button_style='info', description='Extract', icon='check', layout=Layout(height='50px', margin='auto', width='20%'), style=ButtonStyle(), tooltip='Extract')\n"
     ]
    }
   ],
   "source": [
    "\n",
    "def create_subnames(dictionary, name):\n",
    "    for key, label, name_suffix in subname_out_box:\n",
    "        dictionary[key + \"bucket\"] = \"bucket-\" + name + name_suffix\n",
    "        dictionary[key + \"task\"] = \"task-\" + name + name_suffix\n",
    "\n",
    "def retrieve_all_values():\n",
    "    values = {}\n",
    "    create_values_from_items(prepare_items, values)\n",
    "    create_values_from_items(task_items, values)\n",
    "    create_values_from_items(resources_items, values)\n",
    "    create_subnames(values, values[\"name\"])\n",
    "    return values\n",
    "\n",
    "def clic_extract(info):\n",
    "    values = retrieve_all_values()\n",
    "    faceswapWrapper.test_values(values)\n",
    "    print(info)\n",
    "    \n",
    "def clic_train(info):\n",
    "    faceswapWrapper.test_values(values)\n",
    "    print(info)\n",
    "    \n",
    "def clic_prepare(info):\n",
    "    faceswapWrapper.test_values(values)\n",
    "    print(info)\n",
    "    \n",
    "def clic_convert(info):\n",
    "    faceswapWrapper.test_values(values)\n",
    "    print(info)\n",
    "\n",
    "    \n",
    "    \n",
    "    \n",
    "def create_buttons():\n",
    "    outputs = []\n",
    "    buttons = []\n",
    "    for one_button_name, one_button_func in [(\"Extract\", clic_extract), \n",
    "                            (\"Train\",clic_train), \n",
    "                            (\"Prepare\",clic_prepare), \n",
    "                            (\"Convert\", clic_convert)]:\n",
    "        one_button = widgets.Button(description=one_button_name, disabled=False, button_style='info', tooltip=one_button_name, icon='check', layout=button_layout)\n",
    "        one_button.on_click(one_button_func)\n",
    "        buttons.append(one_button)\n",
    "        outputs.append(widgets.Output())\n",
    "    box_button = Box(buttons, layout=form_item_layout)\n",
    "    display(box_button, layout=button_layout)\n",
    "    \n",
    "    #launch_button.on_click(launch)\n",
    "    #return buttons, outputs\n",
    "    \n",
    "create_buttons()"
   ]
  },
  {
   "cell_type": "code",
   "execution_count": null,
   "id": "37883194",
   "metadata": {},
   "outputs": [],
   "source": []
  }
 ],
 "metadata": {
  "kernelspec": {
   "display_name": "Python 3 (ipykernel)",
   "language": "python",
   "name": "python3"
  },
  "language_info": {
   "codemirror_mode": {
    "name": "ipython",
    "version": 3
   },
   "file_extension": ".py",
   "mimetype": "text/x-python",
   "name": "python",
   "nbconvert_exporter": "python",
   "pygments_lexer": "ipython3",
   "version": "3.8.10"
  }
 },
 "nbformat": 4,
 "nbformat_minor": 5
}
