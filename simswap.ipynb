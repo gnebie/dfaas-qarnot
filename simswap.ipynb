{
 "cells": [
  {
   "cell_type": "code",
   "execution_count": 3,
   "id": "f3360d78",
   "metadata": {},
   "outputs": [
    {
     "data": {
      "text/html": [
       "<script>\n",
       "    // AUTORUN ALL CELLS ON NOTEBOOK-LOAD!\n",
       "    require(\n",
       "        ['base/js/namespace', 'jquery'], \n",
       "        function(jupyter, $) {\n",
       "            $(jupyter.events).on(\"kernel_ready.Kernel\", function () {\n",
       "                console.log(\"Auto-running all cells-below...\");\n",
       "                jupyter.actions.call('jupyter-notebook:run-all-cells-below');\n",
       "                jupyter.actions.call('jupyter-notebook:save-notebook');\n",
       "            });\n",
       "        }\n",
       "    );\n",
       "</script>\n"
      ],
      "text/plain": [
       "<IPython.core.display.HTML object>"
      ]
     },
     "metadata": {},
     "output_type": "display_data"
    }
   ],
   "source": [
    "  %%html\n",
    "  <script>\n",
    "      // AUTORUN ALL CELLS ON NOTEBOOK-LOAD!\n",
    "      require(\n",
    "          ['base/js/namespace', 'jquery'], \n",
    "          function(jupyter, $) {\n",
    "              $(jupyter.events).on(\"kernel_ready.Kernel\", function () {\n",
    "                  console.log(\"Auto-running all cells-below...\");\n",
    "                  jupyter.actions.call('jupyter-notebook:run-all-cells-below');\n",
    "                  jupyter.actions.call('jupyter-notebook:save-notebook');\n",
    "              });\n",
    "          }\n",
    "      );\n",
    "  </script>\n"
   ]
  },
  {
   "cell_type": "code",
   "execution_count": null,
   "id": "ccf5d282",
   "metadata": {},
   "outputs": [],
   "source": [
    "  %%html\n",
    "  <script>\n",
    "      code_show=true; \n",
    "      function code_toggle() {\n",
    "          if (code_show){\n",
    "              $('div.input').hide();\n",
    "          } else {\n",
    "              $('div.input').show();\n",
    "          }\n",
    "          code_show = !code_show\n",
    "      } \n",
    "      $( document ).ready(code_toggle);\n",
    "  </script>\n",
    "  The raw code for this IPython notebook is by default hidden for easier reading.\n",
    "  To toggle on/off the raw code, click <a href=\"javascript:code_toggle()\">here</a>.''')\n"
   ]
  },
  {
   "cell_type": "code",
   "execution_count": null,
   "id": "33691ae1",
   "metadata": {},
   "outputs": [],
   "source": [
    "  %%html\n",
    "  <script>\n",
    "      $([IPython.events]).on(\"kernel_ready.Kernel\", function () {\n",
    "          $('div#header-container').hide();\n",
    "          $('div#maintoolbar').hide();\n",
    "      });\n",
    "  </script>\n"
   ]
  },
  {
   "cell_type": "code",
   "execution_count": 1,
   "id": "b889c67a",
   "metadata": {
    "scrolled": true
   },
   "outputs": [
    {
     "data": {
      "text/html": [
       "<script>\n",
       " $('div.input').show();\n",
       "</script>\n"
      ],
      "text/plain": [
       "<IPython.core.display.HTML object>"
      ]
     },
     "execution_count": 1,
     "metadata": {},
     "output_type": "execute_result"
    }
   ],
   "source": [
    "# first cell used to Show the code (useful for Debug)\n",
    "from IPython.display import HTML\n",
    "HTML('''<script>\n",
    " $('div.input').show();\n",
    "</script>\n",
    "''')"
   ]
  },
  {
   "cell_type": "code",
   "execution_count": 84,
   "id": "63e6da91",
   "metadata": {},
   "outputs": [],
   "source": [
    "# Import the needed librairies \n",
    "from IPython.display import display\n",
    "\n",
    "# Do not show pip install info\n",
    "!python3 -m pip install qarnot > /dev/null\n",
    "import qarnot \n",
    "import ipywidgets as widgets\n",
    "from tkinter import Tk, filedialog\n",
    "from IPython.display import clear_output, display"
   ]
  },
  {
   "cell_type": "code",
   "execution_count": 85,
   "id": "10500640",
   "metadata": {},
   "outputs": [
    {
     "data": {
      "text/html": [
       "<script>\n",
       "$('div.input').hide();\n",
       "</script>"
      ],
      "text/plain": [
       "<IPython.core.display.HTML object>"
      ]
     },
     "execution_count": 85,
     "metadata": {},
     "output_type": "execute_result"
    }
   ],
   "source": [
    "# Hide the code \n",
    "from IPython.display import HTML\n",
    "\n",
    "HTML('''<script>\n",
    "$('div.input').hide();\n",
    "</script>''')"
   ]
  },
  {
   "cell_type": "code",
   "execution_count": 86,
   "id": "86a46f09",
   "metadata": {},
   "outputs": [],
   "source": [
    "from ipywidgets import Layout, Button, Box, Label, BoundedIntText, IntSlider, Dropdown, SelectMultiple\n",
    "\n",
    "form_item_layout = Layout(\n",
    "    display='flex',\n",
    "    flex_flow='row',\n",
    "    justify_content='space-between'\n",
    ")\n",
    "percent50layout = Layout(width='70%', height='50px')"
   ]
  },
  {
   "cell_type": "markdown",
   "id": "28e1be04",
   "metadata": {},
   "source": [
    "# Simswap Demo\n",
    "\n",
    "## Enter the informations\n",
    "\n",
    "### enter your Qarnot Task information"
   ]
  },
  {
   "cell_type": "code",
   "execution_count": 87,
   "id": "6e10b476",
   "metadata": {},
   "outputs": [
    {
     "data": {
      "application/vnd.jupyter.widget-view+json": {
       "model_id": "ea9cf7888d434eada43007a13974311d",
       "version_major": 2,
       "version_minor": 0
      },
      "text/plain": [
       "Box(children=(Label(value='Qarnot Token'), Password(layout=Layout(height='50px', width='70%'), placeholder='En…"
      ]
     },
     "metadata": {},
     "output_type": "display_data"
    },
    {
     "data": {
      "application/vnd.jupyter.widget-view+json": {
       "model_id": "276170c420124359ac0e7372bca6c739",
       "version_major": 2,
       "version_minor": 0
      },
      "text/plain": [
       "Box(children=(Label(value='Task name'), Text(value='simswap', layout=Layout(height='50px', width='70%'), place…"
      ]
     },
     "metadata": {},
     "output_type": "display_data"
    },
    {
     "data": {
      "application/vnd.jupyter.widget-view+json": {
       "model_id": "6660957903e84a2d8e221a716481e8c6",
       "version_major": 2,
       "version_minor": 0
      },
      "text/plain": [
       "Box(children=(Label(value='Bucket result name'), Text(value='simswap-result', layout=Layout(height='50px', wid…"
      ]
     },
     "metadata": {},
     "output_type": "display_data"
    },
    {
     "data": {
      "application/vnd.jupyter.widget-view+json": {
       "model_id": "d4a6f47b10cd49769fdb3a4fdf110cf8",
       "version_major": 2,
       "version_minor": 0
      },
      "text/plain": [
       "Box(children=(Label(value='Bucket resources name'), Text(value='simswap-ressources', layout=Layout(height='50p…"
      ]
     },
     "metadata": {},
     "output_type": "display_data"
    }
   ],
   "source": [
    "prepare_box = [\n",
    "    (\"pwd\", \"Qarnot Token\", widgets.Password(placeholder='Enter your token', disabled=False, layout=percent50layout)),\n",
    "    (\"name\", \"Task name\", widgets.Text(placeholder='Type something', disabled=False, value=\"simswap\", layout=percent50layout)),\n",
    "    (\"result\", \"Bucket result name\", widgets.Text(placeholder='Type something', disabled=False, value=\"simswap-result\", layout=percent50layout)),\n",
    "    (\"ressource\", \"Bucket resources name\", widgets.Text(placeholder='Type something', disabled=False, value=\"simswap-ressources\", layout=percent50layout)),\n",
    "]\n",
    "\n",
    "qarnot_items = {}\n",
    "for key, label, widget in prepare_box:\n",
    "    qarnot_items[key] = Box([Label(value=label),widget], layout=form_item_layout) \n",
    "    display(qarnot_items[key]) "
   ]
  },
  {
   "cell_type": "markdown",
   "id": "7889d620",
   "metadata": {},
   "source": [
    "### Enter the picture and video to be swaped\n",
    "If no picture or no video is set, the default simswap demo picture and video will be used.  \n",
    "  \n",
    "#### Upload files, using binder and the remote files :"
   ]
  },
  {
   "cell_type": "code",
   "execution_count": 88,
   "id": "b1abad72",
   "metadata": {},
   "outputs": [
    {
     "data": {
      "application/vnd.jupyter.widget-view+json": {
       "model_id": "97e49fa4a9b84ee8ae2818fb6b0858a0",
       "version_major": 2,
       "version_minor": 0
      },
      "text/plain": [
       "Box(children=(Label(value='Face picture image'), FileUpload(value={}, accept='.jpg', description='Upload', lay…"
      ]
     },
     "metadata": {},
     "output_type": "display_data"
    },
    {
     "data": {
      "application/vnd.jupyter.widget-view+json": {
       "model_id": "06b7a5035c9b4ee7b0312fc60e86d5e0",
       "version_major": 2,
       "version_minor": 0
      },
      "text/plain": [
       "Box(children=(Label(value='Video to be trasformed'), FileUpload(value={}, accept='.mp4', description='Upload',…"
      ]
     },
     "metadata": {},
     "output_type": "display_data"
    }
   ],
   "source": [
    "resources_items = {}\n",
    "prepare_resource_box = [\n",
    "    (\"upload_picture\", \"Face picture image\", widgets.FileUpload(accept='.jpg',multiple=False, layout=percent50layout)),\n",
    "    (\"upload_video\", \"Video to be trasformed\", widgets.FileUpload(accept='.mp4',multiple=False, layout=percent50layout)),\n",
    "]\n",
    "\n",
    "\n",
    "for key, label, widget in prepare_resource_box:\n",
    "    resources_items[key] = Box([Label(value=label),widget], layout=form_item_layout) \n",
    "    display(resources_items[key]) "
   ]
  },
  {
   "cell_type": "markdown",
   "id": "9b33f7b5",
   "metadata": {},
   "source": [
    "#### Get local files, running your ipynb locally :"
   ]
  },
  {
   "cell_type": "code",
   "execution_count": 89,
   "id": "fa36e3da",
   "metadata": {},
   "outputs": [
    {
     "data": {
      "application/vnd.jupyter.widget-view+json": {
       "model_id": "3f56d4311ffe40deb95e8e049cf14688",
       "version_major": 2,
       "version_minor": 0
      },
      "text/plain": [
       "Box(children=(Label(value='Face picture image'), Text(value='', layout=Layout(height='50px', width='70%'), pla…"
      ]
     },
     "metadata": {},
     "output_type": "display_data"
    },
    {
     "data": {
      "application/vnd.jupyter.widget-view+json": {
       "model_id": "00389307e3254a529d9f3fb95dcf3e75",
       "version_major": 2,
       "version_minor": 0
      },
      "text/plain": [
       "Box(children=(Label(value='Video to be trasformed'), Text(value='', layout=Layout(height='50px', width='70%'),…"
      ]
     },
     "metadata": {},
     "output_type": "display_data"
    }
   ],
   "source": [
    "prepare_resource_box = [\n",
    "    (\"picture\", \"Face picture image\", widgets.Text(placeholder='Type your path', disabled=False, layout=percent50layout)),\n",
    "    (\"video\", \"Video to be trasformed\", widgets.Text(placeholder='Type your path', disabled=False, layout=percent50layout)),\n",
    "]\n",
    "\n",
    "for key, label, widget in prepare_resource_box:\n",
    "    resources_items[key] = Box([Label(value=label),widget], layout=form_item_layout) \n",
    "    display(resources_items[key]) "
   ]
  },
  {
   "cell_type": "markdown",
   "id": "ef1b9f5c",
   "metadata": {},
   "source": [
    "## Run the program"
   ]
  },
  {
   "cell_type": "code",
   "execution_count": 90,
   "id": "f1372ff8",
   "metadata": {},
   "outputs": [],
   "source": [
    "bash_script = \"\"\"\n",
    "(\n",
    "    I=0; \n",
    "    while true ; \n",
    "    do \n",
    "        echo $I; \n",
    "         sleep 120; \n",
    "         nvidia-smi>>nvidia.log; \n",
    "    done;\n",
    ")& \n",
    "echo $IMAGE_PATH_MAIN\n",
    "echo $VIDEO_PATH\n",
    "\n",
    "cat /app/demo-test.sh\n",
    "bash /app/demo-test.sh\n",
    "python test_video_swapmulti.py --isTrain false --use_mask --name people --Arc_path arcface_model/arcface_checkpoint.tar --pic_a_path ${IMAGE_PATH_MAIN} --video_path ${VIDEO_PATH} --output_path ${DOCKER_WORKDIR}/multi_test_swapmulti.mp4 --temp_path ./temp_results  > stdout.log 2> stderr.log\n",
    "\n",
    "echo end\n",
    "\n",
    "jobs -p | xargs kill\n",
    "exit 0 ;\n",
    "\"\"\""
   ]
  },
  {
   "cell_type": "code",
   "execution_count": 95,
   "id": "f4c3de03",
   "metadata": {
    "scrolled": false
   },
   "outputs": [
    {
     "data": {
      "application/vnd.jupyter.widget-view+json": {
       "model_id": "034cebad66544faeaf442df0e3b5af55",
       "version_major": 2,
       "version_minor": 0
      },
      "text/plain": [
       "Box(children=(Button(button_style='info', description='Verify the computation launch!', icon='check', layout=L…"
      ]
     },
     "metadata": {},
     "output_type": "display_data"
    },
    {
     "data": {
      "application/vnd.jupyter.widget-view+json": {
       "model_id": "714d1c4550ab4a8d9a5f6d2925de8781",
       "version_major": 2,
       "version_minor": 0
      },
      "text/plain": [
       "Output()"
      ]
     },
     "metadata": {},
     "output_type": "display_data"
    }
   ],
   "source": [
    "import os\n",
    "import io\n",
    "button_layout =  Layout(\n",
    "    margin=\"auto\",\n",
    "    width='70%',\n",
    "    height='50px'\n",
    ")\n",
    "check_values_layout = {'border': '1px solid black', \"margin\":\"auto\",\"padding\":\"15px\", \"text-size\":\"20px\", \"font-weight\":\"20px\"}\n",
    "check_values_layout_box = Layout(width=\"100%\")\n",
    "\n",
    "\n",
    "button = widgets.Button(description=\"Verify the computation launch!\",\n",
    "    disabled=False,\n",
    "    button_style='info', # 'success', 'info', 'warning', 'danger' or ''\n",
    "    tooltip='Click me',\n",
    "    icon='check', \n",
    "    layout=button_layout)\n",
    "output = widgets.Output()\n",
    "\n",
    "def get_launch_button():\n",
    "    launch_button = widgets.Button(description=\"Send the task!\",\n",
    "        disabled=False,\n",
    "        button_style='warning', # 'success', 'info', 'warning', 'danger' or ''\n",
    "        tooltip='Click me',\n",
    "        icon='check',\n",
    "        layout=button_layout)\n",
    "    launch_script = widgets.Output()\n",
    "    box_second_button = Box([launch_button], layout=form_item_layout)\n",
    "    return launch_button, launch_script, box_second_button\n",
    "launch_button, launch_script, box_second_button = get_launch_button()\n",
    "\n",
    "box_button = Box([button], layout=form_item_layout) \n",
    "display(box_button, output, layout=button_layout)\n",
    "\n",
    "def get_upload_file(file_name, file_content):\n",
    "    with open(file_name, 'wb') as output_file: \n",
    "        for uploaded_filename in file_content:\n",
    "            content = file_content[uploaded_filename]['content']   \n",
    "            output_file.write(content) \n",
    "\n",
    "values = {}\n",
    "def launch(b):\n",
    "    with launch_script:\n",
    "        # Prepare the data\n",
    "        image_name = None\n",
    "        video_name = None\n",
    "        if values[\"upload_picture\"]:\n",
    "            get_upload_file(\"picture.jpg\", values[\"upload_picture\"])\n",
    "            values[\"picture\"] = \"picture.jpg\"\n",
    "            image_name = \"picture.jpg\"\n",
    "        elif values[\"picture\"]:\n",
    "            image_name = os.path.basename(values[\"picture\"])\n",
    "        if values[\"upload_video\"]:\n",
    "            get_upload_file(\"video.mp4\", values[\"upload_video\"])\n",
    "            values[\"video\"] = \"video.mp4\"\n",
    "            video_name = \"video.mp4\"\n",
    "        elif values[\"video\"]:\n",
    "            video_name = os.path.basename(values[\"video\"])\n",
    "        \n",
    "        pwd_value = values[\"pwd\"]\n",
    "        name_value = values[\"name\"]\n",
    "        \n",
    "        cluster_url = \"https://api.qarnot.com\"\n",
    "        instances = 1\n",
    "        profile = \"docker-nvidia-bi-a6000-batch\"\n",
    "        \n",
    "        docker_repo = 'guillaumenebieqarnot/simswap'\n",
    "        docker_tag = 'latest'\n",
    "        docker_cmd = \"bash run.sh\"\n",
    "        global bash_script \n",
    "        \n",
    "        launch_button.on_click(launch)\n",
    "        # prepare the bucket resources\n",
    "\n",
    "        # Run the data\n",
    "        conn = qarnot.connection.Connection(client_token=pwd_value, cluster_url=cluster_url)\n",
    "        bucket_resources = conn.retrieve_or_create_bucket(values[\"ressource\"])\n",
    "        if image_name: \n",
    "            bash_script = \"export IMAGE_PATH_MAIN=/job/\" + image_name + \";\" + bash_script\n",
    "            bucket_resources.add_file(values[\"picture\"], image_name)\n",
    "        if video_name:  \n",
    "            bucket_resources.add_file(values[\"video\"], video_name)\n",
    "            bash_script = \"export VIDEO_PATH=/job/\" + video_name + \";\" + bash_script\n",
    "        bucket_resources.add_file(io.BytesIO(bytes(bash_script, 'utf-8')), \"run.sh\")\n",
    "                                  \n",
    "        resources_value = [ bucket_resources ]\n",
    "        bucket_result = conn.retrieve_or_create_bucket(values[\"result\"])\n",
    "        result_value = bucket_result\n",
    "\n",
    "        task = conn.create_task(name_value, profile, instances)\n",
    "        task.constants['DOCKER_REPO'] = docker_repo\n",
    "        task.constants['DOCKER_TAG'] = docker_tag\n",
    "        task.constants['DOCKER_CMD'] = docker_cmd\n",
    "        task.snapshot(180)\n",
    "        task.results = result_value\n",
    "        task.resources = resources_value\n",
    "        print(\"*** task launched ***\")\n",
    "        task.run()\n",
    "        print(\"Task result \" + task.state)\n",
    "        \n",
    "        # retrieve the bucket result\n",
    "out_values = widgets.Output(layout=check_values_layout)\n",
    "out_box = Box([out_values], layout=check_values_layout_box)\n",
    "def on_button_clicked(b):\n",
    "    with output:\n",
    "        # Now the key: the container is displayed (while empty) in the main thread\n",
    "        display(out_box)\n",
    "        box_second_button = Box([launch_button], layout=form_item_layout) \n",
    "        \n",
    "        for key in qarnot_items:\n",
    "            values[key] = qarnot_items[key].children[1].value\n",
    "        for key in resources_items:\n",
    "            values[key] = resources_items[key].children[1].value\n",
    "        \n",
    "        with out_values:\n",
    "            print(\"Launch values: \")\n",
    "            print(\"Name: \" + values[\"name\"])\n",
    "            print(\"Remote File: \" + str(values[\"upload_picture\"].keys()))\n",
    "            print(\"Remote Video: \" + str(values[\"upload_video\"].keys()))\n",
    "            print(\"File path: \" + values[\"picture\"])\n",
    "            print(\"Video path: \" + values[\"video\"])\n",
    "        display(box_second_button, launch_script)\n",
    "        launch_button.on_click(launch)\n",
    "\n",
    "button.on_click(on_button_clicked)"
   ]
  },
  {
   "cell_type": "code",
   "execution_count": 94,
   "id": "5fb82ef1",
   "metadata": {
    "scrolled": false
   },
   "outputs": [
    {
     "data": {
      "text/html": [
       "<script>\n",
       " $('div.input').show();\n",
       "</script>\n"
      ],
      "text/plain": [
       "<IPython.core.display.HTML object>"
      ]
     },
     "execution_count": 94,
     "metadata": {},
     "output_type": "execute_result"
    }
   ],
   "source": [
    "HTML('''<script>\n",
    " $('div.input').show();\n",
    "</script>\n",
    "''')"
   ]
  },
  {
   "cell_type": "code",
   "execution_count": 93,
   "id": "e3521591",
   "metadata": {
    "scrolled": false
   },
   "outputs": [
    {
     "data": {
      "text/html": [
       "<script>\n",
       "$('div.input').hide();\n",
       "</script>"
      ],
      "text/plain": [
       "<IPython.core.display.HTML object>"
      ]
     },
     "execution_count": 93,
     "metadata": {},
     "output_type": "execute_result"
    }
   ],
   "source": [
    "HTML('''<script>\n",
    "$('div.input').hide();\n",
    "</script>''')\n"
   ]
  },
  {
   "cell_type": "code",
   "execution_count": null,
   "id": "8521a78b",
   "metadata": {},
   "outputs": [],
   "source": []
  }
 ],
 "metadata": {
  "kernelspec": {
   "display_name": "Python 3 (ipykernel)",
   "language": "python",
   "name": "python3"
  },
  "language_info": {
   "codemirror_mode": {
    "name": "ipython",
    "version": 3
   },
   "file_extension": ".py",
   "mimetype": "text/x-python",
   "name": "python",
   "nbconvert_exporter": "python",
   "pygments_lexer": "ipython3",
   "version": "3.8.10"
  }
 },
 "nbformat": 4,
 "nbformat_minor": 5
}
